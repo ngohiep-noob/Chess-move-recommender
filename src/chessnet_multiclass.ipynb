{
 "cells": [
  {
   "cell_type": "markdown",
   "metadata": {},
   "source": [
    "# Import"
   ]
  },
  {
   "cell_type": "code",
   "execution_count": 1,
   "metadata": {},
   "outputs": [],
   "source": [
    "from model import ChessNet\n",
    "import torch\n",
    "import torch.nn as nn\n",
    "from torchsummary import summary\n",
    "import pandas as pd\n",
    "from utils import read_pgn\n",
    "import chess\n",
    "from IPython.display import display, clear_output\n",
    "from time import sleep, time\n",
    "from torch.utils.data import DataLoader, Dataset\n",
    "from typing import List, Tuple\n",
    "from tqdm import tqdm\n",
    "import matplotlib.pyplot as plt\n",
    "from sklearn.model_selection import train_test_split\n",
    "import pickle\n",
    "import os\n",
    "import gc"
   ]
  },
  {
   "cell_type": "code",
   "execution_count": 2,
   "metadata": {},
   "outputs": [],
   "source": [
    "device = torch.device(\"cuda\" if torch.cuda.is_available() else \"cpu\")"
   ]
  },
  {
   "cell_type": "markdown",
   "metadata": {},
   "source": [
    "# Data preprocessing"
   ]
  },
  {
   "cell_type": "code",
   "execution_count": 3,
   "metadata": {},
   "outputs": [],
   "source": [
    "df1 = pd.read_csv(\"../games_metadata_profile.csv\")\n",
    "df2 = pd.read_csv(\"../games_metadata_profile_2024_01.csv\")\n",
    "\n",
    "\n",
    "def format_game_mode(x):\n",
    "    if \"Classical\" in x:\n",
    "        return \"Classical game\"\n",
    "    elif \"Bullet\" in x:\n",
    "        return \"Bullet game\"\n",
    "    elif \"Blitz\" in x:\n",
    "        return \"Blitz game\"\n",
    "    elif \"UltraBullet\" in x:\n",
    "        return \"UltraBullet game\"\n",
    "    elif \"Rapid\" in x:\n",
    "        return \"Rapid game\"\n",
    "    elif \"Correspondence\" in x:\n",
    "        return \"Correspondence game\"\n",
    "    else:\n",
    "        return x\n",
    "\n",
    "\n",
    "df = pd.concat([df1, df2], ignore_index=True)\n",
    "\n",
    "df[\"Mode\"] = df[\"Event\"].apply(format_game_mode)\n",
    "\n",
    "df = df[df[\"Mode\"] == \"Blitz game\"]"
   ]
  },
  {
   "cell_type": "code",
   "execution_count": 4,
   "metadata": {},
   "outputs": [
    {
     "name": "stdout",
     "output_type": "stream",
     "text": [
      "# games with average elo below 1450: (30057, 34)\n",
      "# games with average elo between 1450 and 1800: (32038, 34)\n",
      "# games with average elo above 1800: (31863, 34)\n"
     ]
    },
    {
     "data": {
      "text/plain": [
       "0"
      ]
     },
     "execution_count": 4,
     "metadata": {},
     "output_type": "execute_result"
    }
   ],
   "source": [
    "df_elo_below_1450 = df[(df[\"WhiteElo\"] + df[\"BlackElo\"]) / 2 <= 1450]\n",
    "df_elo_1450_to_1800 = df[\n",
    "    ((df[\"WhiteElo\"] + df[\"BlackElo\"]) / 2 > 1450)\n",
    "    & ((df[\"WhiteElo\"] + df[\"BlackElo\"]) / 2 <= 1800)\n",
    "]\n",
    "df_elo_above_1800 = df[(df[\"WhiteElo\"] + df[\"BlackElo\"]) / 2 > 1800]\n",
    "\n",
    "print(f\"# games with average elo below 1450: {df_elo_below_1450.shape}\")\n",
    "\n",
    "print(f\"# games with average elo between 1450 and 1800: {df_elo_1450_to_1800.shape}\")\n",
    "\n",
    "print(f\"# games with average elo above 1800: {df_elo_above_1800.shape}\")\n",
    "\n",
    "del df1, df2, df\n",
    "gc.collect()"
   ]
  },
  {
   "cell_type": "code",
   "execution_count": 5,
   "metadata": {},
   "outputs": [
    {
     "name": "stdout",
     "output_type": "stream",
     "text": [
      "# games with average elo below 1450: (15000, 34)\n",
      "# games with average elo between 1450 and 1800: (15000, 34)\n",
      "# games with average elo above 1800: (15000, 34)\n"
     ]
    }
   ],
   "source": [
    "cutoff = 15000  # number of games to use for each partition\n",
    "\n",
    "# set fixed seed for reproducibility\n",
    "random_state = 42\n",
    "\n",
    "df_elo_below_1450 = df_elo_below_1450.sample(cutoff, random_state=random_state)\n",
    "\n",
    "df_elo_1450_to_1800 = df_elo_1450_to_1800.sample(cutoff, random_state=random_state)\n",
    "\n",
    "df_elo_above_1800 = df_elo_above_1800.sample(cutoff, random_state=random_state)\n",
    "\n",
    "print(f\"# games with average elo below 1450: {df_elo_below_1450.shape}\")\n",
    "print(f\"# games with average elo between 1450 and 1800: {df_elo_1450_to_1800.shape}\")\n",
    "print(f\"# games with average elo above 1800: {df_elo_above_1800.shape}\")"
   ]
  },
  {
   "cell_type": "code",
   "execution_count": 6,
   "metadata": {},
   "outputs": [],
   "source": [
    "# move ==> (_from, _to, board)\n",
    "# board ==> 8x8 numpy array\n",
    "def process_game(moves: List[chess.Move]):\n",
    "    board = chess.Board()\n",
    "    samples = []\n",
    "    for move in moves:\n",
    "        _from, _to = move.from_square, move.to_square\n",
    "        parts = board.fen().split(\" \")\n",
    "        board_fen = parts[0]\n",
    "        turn = parts[1]\n",
    "        castling_rights = parts[2]\n",
    "        # from square index to algebraic notation\n",
    "        piece = board.piece_at(_from)\n",
    "        _from, _to = chess.SQUARE_NAMES[_from], chess.SQUARE_NAMES[_to]\n",
    "        samples.append(\n",
    "            (\n",
    "                str(_from),\n",
    "                str(_to),\n",
    "                str(piece),\n",
    "                str(turn),\n",
    "                str(castling_rights),\n",
    "                board_fen,\n",
    "            )\n",
    "        )\n",
    "        board.push(move)\n",
    "\n",
    "    return samples"
   ]
  },
  {
   "cell_type": "code",
   "execution_count": 7,
   "metadata": {},
   "outputs": [],
   "source": [
    "def pgns_to_samples(\n",
    "    game_pgns: List[str] = None,\n",
    "    save_dir: str = None,\n",
    "    suffix: str = \"\",\n",
    "    write_to_disk: bool = True,\n",
    "):\n",
    "    assert (\n",
    "        game_pgns is not None or save_dir is not None\n",
    "    ), \"game_pgns OR save_dir must be provided\"\n",
    "\n",
    "    is_train_saved = False\n",
    "    is_test_saved = False\n",
    "    train_samples = []\n",
    "    test_samples = []\n",
    "    if save_dir:\n",
    "        if f\"train_{suffix}.pkl\" in os.listdir(save_dir):\n",
    "            is_train_saved = True\n",
    "            with open(f\"{save_dir}/train_{suffix}.pkl\", \"rb\") as f:\n",
    "                train_samples = pickle.load(f)\n",
    "            print(f\"Loading train samples from disk size: {len(train_samples)}\")\n",
    "\n",
    "        if f\"test_{suffix}.pkl\" in os.listdir(save_dir):\n",
    "            is_test_saved = True\n",
    "            with open(f\"{save_dir}/test_{suffix}.pkl\", \"rb\") as f:\n",
    "                test_samples = pickle.load(f)\n",
    "            print(f\"Loading test samples from disk size: {len(test_samples)}\")\n",
    "\n",
    "    if game_pgns is not None:\n",
    "        train_pgn, test_pgn = train_test_split(\n",
    "            game_pgns, test_size=0.2, random_state=42\n",
    "        )\n",
    "\n",
    "        if not is_train_saved:\n",
    "            print(\"Processing train samples\")\n",
    "            for game_pgn in tqdm(train_pgn):\n",
    "                game_moves = read_pgn(game_pgn)\n",
    "                train_samples.extend(process_game(game_moves))\n",
    "            train_samples = list(set(train_samples))\n",
    "            if write_to_disk:\n",
    "                with open(f\"{save_dir}/train_{suffix}.pkl\", \"wb\") as f:\n",
    "                    pickle.dump(train_samples, f)\n",
    "                    print(f\"Train samples saved to {save_dir}/train_{suffix}.pkl\")\n",
    "\n",
    "        if not is_test_saved:\n",
    "            print(\"Processing test samples\")\n",
    "            for game_pgn in tqdm(test_pgn):\n",
    "                game_moves = read_pgn(game_pgn)\n",
    "                test_samples.extend(process_game(game_moves))\n",
    "            test_samples = list(set(test_samples))\n",
    "            if write_to_disk:\n",
    "                with open(f\"{save_dir}/test_{suffix}.pkl\", \"wb\") as f:\n",
    "                    pickle.dump(test_samples, f)\n",
    "                    print(f\"Test samples saved to {save_dir}/test_{suffix}.pkl\")\n",
    "    return train_samples, test_samples"
   ]
  },
  {
   "cell_type": "code",
   "execution_count": 8,
   "metadata": {},
   "outputs": [],
   "source": [
    "game_below_1450 = df_elo_below_1450[\"Moves\"].values\n",
    "game_1450_to_1800 = df_elo_1450_to_1800[\"Moves\"].values\n",
    "game_above_1800 = df_elo_above_1800[\"Moves\"].values"
   ]
  },
  {
   "cell_type": "code",
   "execution_count": 9,
   "metadata": {},
   "outputs": [
    {
     "name": "stdout",
     "output_type": "stream",
     "text": [
      "Loading train samples from disk size: 658096\n",
      "Loading test samples from disk size: 167298\n",
      "Loading train samples from disk size: 712163\n",
      "Loading test samples from disk size: 181459\n",
      "Loading train samples from disk size: 773308\n",
      "Loading test samples from disk size: 198207\n"
     ]
    }
   ],
   "source": [
    "save_dir = \"data\"\n",
    "train_below_1450, test_below_1450 = pgns_to_samples(\n",
    "    save_dir=save_dir,\n",
    "    suffix=\"below_1450_15kCUTOFF\",\n",
    "    # write_to_disk=False,\n",
    "    game_pgns=game_below_1450,\n",
    ")\n",
    "train_1450_to_1800, test_1450_to_1800 = pgns_to_samples(\n",
    "    save_dir=save_dir,\n",
    "    suffix=\"1450_to_1800_15kCUTOFF\",\n",
    "    # write_to_disk=False,\n",
    "    game_pgns=game_1450_to_1800,\n",
    ")\n",
    "train_above_1800, test_above_1800 = pgns_to_samples(\n",
    "    save_dir=save_dir,\n",
    "    suffix=\"above_1800_15kCUTOFF\",\n",
    "    # write_to_disk=False,\n",
    "    game_pgns=game_above_1800,\n",
    ")"
   ]
  },
  {
   "cell_type": "code",
   "execution_count": 10,
   "metadata": {},
   "outputs": [],
   "source": [
    "def transform_board(\n",
    "    board: chess.Board, mask_loc: str = None, add_legal_moves: bool = False\n",
    ") -> torch.Tensor:\n",
    "    piece_map = {\n",
    "        \"p\": 1,\n",
    "        \"n\": 2,\n",
    "        \"b\": 3,\n",
    "        \"r\": 4,\n",
    "        \"q\": 5,\n",
    "        \"k\": 6,\n",
    "        \"P\": 7,\n",
    "        \"N\": 8,\n",
    "        \"B\": 9,\n",
    "        \"R\": 10,\n",
    "        \"Q\": 11,\n",
    "        \"K\": 12,\n",
    "    }\n",
    "    board_tensor = torch.zeros(12, 8, 8)\n",
    "    for i in range(8):\n",
    "        for j in range(8):\n",
    "            piece = board.piece_at(chess.square(i, j))\n",
    "            if piece is not None:\n",
    "                piece_symbol = piece.symbol()\n",
    "                board_tensor[piece_map[piece_symbol] - 1, i, j] = 1\n",
    "\n",
    "    if add_legal_moves:  # add new channels of legal moves to the board tensor\n",
    "        legal_moves = board.legal_moves\n",
    "        legal_move_channel = torch.zeros(1, 8, 8)\n",
    "        for move in legal_moves:\n",
    "            to_square = move.to_square\n",
    "            legal_move_channel[0, to_square % 8, to_square // 8] = 1\n",
    "            # check if the move is a capture\n",
    "            if board.is_capture(move):\n",
    "                legal_move_channel[0, to_square % 8, to_square // 8] *= 2\n",
    "        board_tensor = torch.cat((board_tensor, legal_move_channel), dim=0)\n",
    "\n",
    "    if mask_loc is not None:  # add new channels of mask to the board tensor\n",
    "        mask_tensor = torch.zeros(1, 8, 8)\n",
    "        # convert mask_loc san to square index\n",
    "        mask_square = chess.parse_square(mask_loc)\n",
    "        piece = board.piece_at(mask_square)\n",
    "        if piece is None:\n",
    "            raise ValueError(f\"no piece at mask square {mask_loc}\")\n",
    "        mask_tensor[0, mask_square % 8, mask_square // 8] = 1\n",
    "        board_tensor = torch.cat((board_tensor, mask_tensor), dim=0)\n",
    "\n",
    "    return board_tensor"
   ]
  },
  {
   "cell_type": "code",
   "execution_count": 11,
   "metadata": {},
   "outputs": [],
   "source": [
    "def group_board(samples):\n",
    "    board_grouped = {}\n",
    "\n",
    "    # count the number of moves for each piece in each board state\n",
    "    for sample in samples:\n",
    "        _from, _to, piece, turn, castling_rights, board_fen = sample\n",
    "        board_position = board_fen.split(\" \")[0]\n",
    "\n",
    "        if board_position not in board_grouped:\n",
    "\n",
    "            board_grouped[board_position] = {\"total\": 0}\n",
    "\n",
    "        for idx, subkey in enumerate(\n",
    "            [\n",
    "                _from\n",
    "                #   , _to\n",
    "            ]\n",
    "        ):\n",
    "            if subkey not in board_grouped[board_position]:\n",
    "                board_grouped[board_position][subkey] = 0\n",
    "            board_grouped[board_position][subkey] += 1\n",
    "\n",
    "        board_grouped[board_position][\"total\"] += 1\n",
    "\n",
    "    # convert the count to probability distribution\n",
    "    for board_position in board_grouped:\n",
    "\n",
    "        total = board_grouped[board_position][\"total\"]\n",
    "\n",
    "        for subkey in board_grouped[board_position]:\n",
    "            if subkey == \"total\":\n",
    "                continue\n",
    "            board_grouped[board_position][subkey] /= total\n",
    "\n",
    "        del board_grouped[board_position][\"total\"]\n",
    "\n",
    "    # dict to list\n",
    "\n",
    "    board_grouped = list(board_grouped.items())\n",
    "    return board_grouped"
   ]
  },
  {
   "cell_type": "code",
   "execution_count": 59,
   "metadata": {},
   "outputs": [],
   "source": [
    "# transform piece distribution to tensor label\n",
    "# piece_distribution = {'e1': 0.5, 'd2': 0.2, ...}\n",
    "# piece_distribution ==> tensor(64)\n",
    "def piece_distribution_to_label(piece_distribution):\n",
    "    label = torch.zeros(64)\n",
    "\n",
    "    for i, piece in enumerate(piece_distribution):\n",
    "        idx = chess.parse_square(piece)\n",
    "        label[idx] = piece_distribution[piece]\n",
    "\n",
    "    return label"
   ]
  },
  {
   "cell_type": "code",
   "execution_count": 60,
   "metadata": {},
   "outputs": [],
   "source": [
    "def filter_by_piece(samples: List[Tuple[str, str, str, str]], piece: str):\n",
    "    return list(filter(lambda x: x[2].lower() == piece, samples))"
   ]
  },
  {
   "cell_type": "markdown",
   "metadata": {},
   "source": [
    "# Dataset"
   ]
  },
  {
   "cell_type": "code",
   "execution_count": 61,
   "metadata": {},
   "outputs": [],
   "source": [
    "class ChessGroupedDataset(Dataset):\n",
    "    def __init__(\n",
    "        self,\n",
    "        moves: List[Tuple[str, str, str, str]],\n",
    "        mask_move: bool = False,\n",
    "    ):\n",
    "        self.grouped_moves = group_board(moves)\n",
    "        self.moves = moves\n",
    "        self.mask_move = mask_move\n",
    "\n",
    "    def __len__(self):\n",
    "        return len(self.grouped_moves)\n",
    "\n",
    "    def __getitem__(self, idx):\n",
    "        board_fen, piece_probs = self.grouped_moves[idx]\n",
    "        _from, _to, piece, turn, castling_rights, board_fen = self.moves[idx]\n",
    "        board = chess.Board(board_fen)\n",
    "        # feature is the board tensor\n",
    "        x = transform_board(\n",
    "            board,\n",
    "            add_legal_moves=True,\n",
    "            mask_loc=_from if self.mask_move else None,\n",
    "        )\n",
    "        # label is one-hot encoded _from\n",
    "        y = piece_distribution_to_label(piece_probs)\n",
    "        # if play side is black, flip the board both two ways and the label\n",
    "        if board.turn == chess.BLACK:\n",
    "            x = x.flip(1).flip(2)\n",
    "            y = y.flip(0)\n",
    "\n",
    "        return x, y"
   ]
  },
  {
   "cell_type": "code",
   "execution_count": 62,
   "metadata": {},
   "outputs": [],
   "source": [
    "class ChessDataset(Dataset):\n",
    "    def __init__(\n",
    "        self,\n",
    "        moves: List[Tuple[str, str, str, str]],\n",
    "        mask_move: bool = False,\n",
    "        add_legal_moves: bool = False,\n",
    "    ):\n",
    "        self.moves = moves  # (from, to, piece, turn, castling_rights, board_fen)\n",
    "        self.mask_move = mask_move\n",
    "        self.add_legal_moves = add_legal_moves  # encode legal moves into board tensor\n",
    "\n",
    "    def __len__(self):\n",
    "        return len(self.moves)\n",
    "\n",
    "    def __getitem__(self, idx):\n",
    "        _from, _to, piece, turn, castling_rights, board_fen = self.moves[idx]\n",
    "        fen = board_fen + \" \" + turn + \" \" + castling_rights + \" - 0 1\"\n",
    "        board = chess.Board(fen)\n",
    "        # feature is the board tensor\n",
    "        x = transform_board(\n",
    "            board,\n",
    "            mask_loc=_from if self.mask_move else None,\n",
    "            add_legal_moves=self.add_legal_moves,\n",
    "        )\n",
    "        # label is one-hot encoded _from\n",
    "        y = torch.zeros(64)\n",
    "        # convert _to name to index, igoring promotion(last letter)\n",
    "        _to = chess.parse_square(_to[:2])\n",
    "        y[_to] = 1\n",
    "        # if play side is black, flip the board both two ways and the label\n",
    "        if board.turn == chess.BLACK:\n",
    "            x = x.flip(1).flip(2)\n",
    "            y = y.flip(0)\n",
    "\n",
    "        return x, y"
   ]
  },
  {
   "cell_type": "markdown",
   "metadata": {},
   "source": [
    "# Training"
   ]
  },
  {
   "cell_type": "code",
   "execution_count": 63,
   "metadata": {},
   "outputs": [],
   "source": [
    "def training(model, dataloader, criterion, optimizer, device, num_epochs=10):\n",
    "    model.train()\n",
    "    train_loss = []\n",
    "    start = time()\n",
    "    for epoch in range(num_epochs):\n",
    "        running_loss = 0.0\n",
    "        for i, data in enumerate(dataloader):\n",
    "            inputs, labels = data\n",
    "            inputs, labels = inputs.to(device), labels.to(device)\n",
    "\n",
    "            optimizer.zero_grad()\n",
    "            outputs = model(inputs)\n",
    "            loss = criterion(outputs, labels)\n",
    "            loss.backward()\n",
    "            optimizer.step()\n",
    "            running_loss += loss.item()\n",
    "            if i % 100 == 99:\n",
    "                elapsed = time() - start\n",
    "                # number of batches per epoch\n",
    "\n",
    "                print(\n",
    "                    f\"epoch {epoch+1}/{num_epochs} | batch {i+1}/{len(dataloader)} | loss: {running_loss / 100} | elap: {elapsed:.2f}s\"\n",
    "                )\n",
    "                train_loss.append(running_loss / 100)\n",
    "                running_loss = 0.0\n",
    "    return train_loss"
   ]
  },
  {
   "cell_type": "code",
   "execution_count": 64,
   "metadata": {},
   "outputs": [],
   "source": [
    "# get the move from argmax of the predicted distribution\n",
    "def argmax_move(batch: torch.Tensor):\n",
    "    argmax_idx = torch.argmax(batch, dim=1)\n",
    "    pred_y = torch.zeros_like(batch)\n",
    "    pred_y[torch.arange(batch.shape[0]), argmax_idx] = 1\n",
    "\n",
    "    return pred_y.to(device)\n",
    "\n",
    "\n",
    "# sample the move from the predicted distribution\n",
    "def sample_move(batch: torch.Tensor):\n",
    "    pred_y = torch.zeros_like(batch)\n",
    "    for i in range(batch.shape[0]):\n",
    "        move = torch.multinomial(batch[i], 1)\n",
    "        pred_y[i, move] = 1\n",
    "\n",
    "    return pred_y.to(device)"
   ]
  },
  {
   "cell_type": "markdown",
   "metadata": {},
   "source": [
    "# Training piece selection"
   ]
  },
  {
   "cell_type": "markdown",
   "metadata": {},
   "source": [
    "## Model + training"
   ]
  },
  {
   "cell_type": "code",
   "execution_count": null,
   "metadata": {},
   "outputs": [],
   "source": [
    "model = ChessNet(\n",
    "    num_classes=64,\n",
    "    num_channels=6,\n",
    "    activation=nn.LeakyReLU(inplace=True),\n",
    ").to(device)"
   ]
  },
  {
   "cell_type": "code",
   "execution_count": null,
   "metadata": {},
   "outputs": [],
   "source": [
    "# load model\n",
    "# model.load_state_dict(torch.load(\"piece_grouped_sel_ce_20epc.pth\"))"
   ]
  },
  {
   "cell_type": "code",
   "execution_count": null,
   "metadata": {},
   "outputs": [],
   "source": [
    "# summary(model, (6, 8, 8), batch_size=1)"
   ]
  },
  {
   "cell_type": "code",
   "execution_count": null,
   "metadata": {},
   "outputs": [
    {
     "data": {
      "text/plain": [
       "(159228, 40500)"
      ]
     },
     "metadata": {},
     "output_type": "display_data"
    }
   ],
   "source": [
    "grouped_train_samples = group_board(train_below_1450)\n",
    "grouped_test_samples = group_board(test_below_1450)\n",
    "\n",
    "len(grouped_train_samples), len(grouped_test_samples)"
   ]
  },
  {
   "cell_type": "code",
   "execution_count": null,
   "metadata": {},
   "outputs": [
    {
     "data": {
      "text/plain": [
       "(torch.Size([6, 8, 8]), torch.Size([64]), 159228)"
      ]
     },
     "metadata": {},
     "output_type": "display_data"
    }
   ],
   "source": [
    "piece_sel_ds = ChessGroupedDataset(grouped_train_samples)\n",
    "piece_sel_dl = DataLoader(piece_sel_ds, batch_size=64, shuffle=False)\n",
    "\n",
    "# sample from the dataset\n",
    "x, y = piece_sel_ds[0]\n",
    "\n",
    "x.shape, y.shape, len(piece_sel_ds)"
   ]
  },
  {
   "cell_type": "code",
   "execution_count": 19,
   "metadata": {},
   "outputs": [
    {
     "name": "stdout",
     "output_type": "stream",
     "text": [
      "Epoch 10/10\n",
      "----------\n",
      "batch 0 loss: 4.106743812561035\n",
      "batch 200 loss: 4.054723739624023\n",
      "batch 400 loss: 4.028746128082275\n",
      "batch 600 loss: 4.072626113891602\n",
      "batch 800 loss: 4.060213088989258\n",
      "batch 1000 loss: 4.090933322906494\n",
      "batch 1200 loss: 4.06001091003418\n",
      "batch 1400 loss: 4.10654354095459\n",
      "batch 1600 loss: 4.091612815856934\n",
      "batch 1800 loss: 4.138007164001465\n",
      "batch 2000 loss: 4.028840065002441\n",
      "batch 2200 loss: 4.063558578491211\n",
      "batch 2400 loss: 4.138141632080078\n",
      "__Epoch loss: 4.079843078491389\n"
     ]
    }
   ],
   "source": [
    "EPOCHS = 10\n",
    "criterion = nn.CrossEntropyLoss()\n",
    "optimizer = torch.optim.Adam(model.parameters(), lr=0.001)\n",
    "\n",
    "loss_history = training(model, piece_sel_dl, criterion, optimizer, num_epochs=EPOCHS)"
   ]
  },
  {
   "cell_type": "code",
   "execution_count": 20,
   "metadata": {},
   "outputs": [],
   "source": [
    "# save the model\n",
    "torch.save(model.state_dict(), \"grouped_ce_10epc_lrelu_0.01.pth\")"
   ]
  },
  {
   "cell_type": "code",
   "execution_count": 21,
   "metadata": {},
   "outputs": [
    {
     "data": {
      "image/png": "[encoded data removed]",
      "text/plain": [
       "<Figure size 640x480 with 1 Axes>"
      ]
     },
     "metadata": {},
     "output_type": "display_data"
    }
   ],
   "source": [
    "# plot loss history\n",
    "plt.plot(loss_history)\n",
    "plt.xlabel(\"Epoch\")\n",
    "plt.ylabel(\"Loss\")\n",
    "plt.title(\"Piece Selection Model Loss\")\n",
    "plt.show()"
   ]
  },
  {
   "cell_type": "markdown",
   "metadata": {},
   "source": [
    "## Evaluation"
   ]
  },
  {
   "cell_type": "code",
   "execution_count": 88,
   "metadata": {},
   "outputs": [],
   "source": [
    "test_samples_ds = ChessDataset(test_above_1800)\n",
    "test_samples_dl = DataLoader(test_samples_ds, batch_size=64, shuffle=False)\n",
    "\n",
    "test_piece_sel_ds = ChessGroupedDataset(grouped_test_samples)\n",
    "test_piece_sel_dl = DataLoader(test_piece_sel_ds, batch_size=64, shuffle=False)"
   ]
  },
  {
   "cell_type": "code",
   "execution_count": 91,
   "metadata": {},
   "outputs": [
    {
     "name": "stdout",
     "output_type": "stream",
     "text": [
      "Accuracy: 20.174%\n"
     ]
    }
   ],
   "source": [
    "model.eval()\n",
    "total = 0\n",
    "correct = 0\n",
    "for idx, (x, y) in enumerate(test_samples_dl):\n",
    "    x, y = x.to(device), y.to(device)\n",
    "    output = model(x)\n",
    "    output = torch.softmax(output, dim=1)\n",
    "    pred_y = argmax_move(output)\n",
    "    correct += (pred_y == y).all(dim=1).sum().item()\n",
    "    total += y.size(0)\n",
    "\n",
    "print(f\"Accuracy argmax move: {(correct/total) * 100:.3f}%\")"
   ]
  },
  {
   "cell_type": "markdown",
   "metadata": {},
   "source": [
    "# Training move selection"
   ]
  },
  {
   "cell_type": "markdown",
   "metadata": {},
   "source": [
    "## Model + training"
   ]
  },
  {
   "cell_type": "code",
   "execution_count": 17,
   "metadata": {},
   "outputs": [],
   "source": [
    "piece_type = [\"p\", \"n\", \"b\", \"r\", \"q\", \"k\"]  # pawn, knight, bishop, rook, queen, king"
   ]
  },
  {
   "cell_type": "code",
   "execution_count": 18,
   "metadata": {},
   "outputs": [],
   "source": [
    "src_sample = train_above_1800\n",
    "move_sel_sample = {piece: filter_by_piece(src_sample, piece) for piece in piece_type}"
   ]
  },
  {
   "cell_type": "code",
   "execution_count": 19,
   "metadata": {},
   "outputs": [
    {
     "data": {
      "image/png": "[encoded data removed]",
      "text/plain": [
       "<Figure size 500x300 with 1 Axes>"
      ]
     },
     "metadata": {},
     "output_type": "display_data"
    }
   ],
   "source": [
    "# plot the size of each piece type\n",
    "plt.figure(figsize=(5, 3))\n",
    "plt.bar(\n",
    "    range(len(move_sel_sample)), [len(move_sel_sample[piece]) for piece in piece_type]\n",
    ")\n",
    "plt.xticks(range(len(move_sel_sample)), piece_type)\n",
    "plt.xlabel(\"Piece type\")\n",
    "plt.ylabel(\"# samples\")\n",
    "plt.title(f\"Number of samples for each piece type, total: {len(src_sample)}\")\n",
    "plt.show()"
   ]
  },
  {
   "cell_type": "markdown",
   "metadata": {},
   "source": [
    "## Training on single piece\n"
   ]
  },
  {
   "cell_type": "code",
   "execution_count": 84,
   "metadata": {},
   "outputs": [],
   "source": [
    "piece = \"q\" \n",
    "lr = 0.002"
   ]
  },
  {
   "cell_type": "code",
   "execution_count": 89,
   "metadata": {},
   "outputs": [
    {
     "data": {
      "text/plain": [
       "(torch.Size([14, 8, 8]), torch.Size([64]), 101971)"
      ]
     },
     "execution_count": 89,
     "metadata": {},
     "output_type": "execute_result"
    }
   ],
   "source": [
    "samples = filter_by_piece(train_above_1800, piece)\n",
    "ds = ChessGroupedDataset(samples, mask_move=True)\n",
    "dl = torch.utils.data.DataLoader(ds, batch_size=64, shuffle=False)\n",
    "\n",
    "# sample from the dataset\n",
    "x, y = ds[0]\n",
    "x.shape, y.shape, len(ds)"
   ]
  },
  {
   "cell_type": "code",
   "execution_count": 90,
   "metadata": {},
   "outputs": [],
   "source": [
    "model = ChessNet(\n",
    "    num_classes=64,\n",
    "    num_channels=14,\n",
    "    activation=nn.ReLU(inplace=True),\n",
    ").to(device)"
   ]
  },
  {
   "cell_type": "code",
   "execution_count": 91,
   "metadata": {},
   "outputs": [
    {
     "name": "stdout",
     "output_type": "stream",
     "text": [
      "epoch 1/5 | batch 100/1594 | loss: 3.502851939201355 | elap: 5.02s\n",
      "epoch 1/5 | batch 200/1594 | loss: 3.7019624304771424 | elap: 10.26s\n",
      "epoch 1/5 | batch 300/1594 | loss: 3.85513729095459 | elap: 15.58s\n",
      "epoch 1/5 | batch 400/1594 | loss: 3.8576497268676757 | elap: 20.82s\n",
      "epoch 1/5 | batch 500/1594 | loss: 3.842976522445679 | elap: 26.12s\n",
      "epoch 1/5 | batch 600/1594 | loss: 3.8427145886421203 | elap: 31.44s\n",
      "epoch 1/5 | batch 700/1594 | loss: 3.8439604020118714 | elap: 36.73s\n",
      "epoch 1/5 | batch 800/1594 | loss: 3.809513533115387 | elap: 42.04s\n",
      "epoch 1/5 | batch 900/1594 | loss: 3.836632025241852 | elap: 47.31s\n",
      "epoch 1/5 | batch 1000/1594 | loss: 3.8304301595687864 | elap: 52.61s\n",
      "epoch 1/5 | batch 1100/1594 | loss: 3.8301178097724913 | elap: 57.89s\n",
      "epoch 1/5 | batch 1200/1594 | loss: 3.8189573907852172 | elap: 63.18s\n",
      "epoch 1/5 | batch 1300/1594 | loss: 3.828023145198822 | elap: 68.47s\n",
      "epoch 1/5 | batch 1400/1594 | loss: 3.819545609951019 | elap: 73.76s\n",
      "epoch 1/5 | batch 1500/1594 | loss: 3.837638647556305 | elap: 79.08s\n",
      "epoch 2/5 | batch 100/1594 | loss: 3.820524346828461 | elap: 89.28s\n",
      "epoch 2/5 | batch 200/1594 | loss: 3.8289409351348875 | elap: 94.55s\n",
      "epoch 2/5 | batch 300/1594 | loss: 3.802830219268799 | elap: 99.87s\n",
      "epoch 2/5 | batch 400/1594 | loss: 3.842673692703247 | elap: 105.14s\n",
      "epoch 2/5 | batch 500/1594 | loss: 3.8295906925201417 | elap: 110.40s\n",
      "epoch 2/5 | batch 600/1594 | loss: 3.8309328246116636 | elap: 115.71s\n",
      "epoch 2/5 | batch 700/1594 | loss: 3.8348830437660215 | elap: 120.99s\n",
      "epoch 2/5 | batch 800/1594 | loss: 3.801044192314148 | elap: 126.35s\n",
      "epoch 2/5 | batch 900/1594 | loss: 3.8293145537376403 | elap: 131.66s\n",
      "epoch 2/5 | batch 1000/1594 | loss: 3.8220397210121155 | elap: 136.89s\n",
      "epoch 2/5 | batch 1100/1594 | loss: 3.8203243136405947 | elap: 142.18s\n",
      "epoch 2/5 | batch 1200/1594 | loss: 3.810865604877472 | elap: 147.48s\n",
      "epoch 2/5 | batch 1300/1594 | loss: 3.818415467739105 | elap: 152.77s\n",
      "epoch 2/5 | batch 1400/1594 | loss: 3.8170287251472472 | elap: 158.05s\n",
      "epoch 2/5 | batch 1500/1594 | loss: 3.8376480507850648 | elap: 163.34s\n",
      "epoch 3/5 | batch 100/1594 | loss: 3.8158549952507017 | elap: 173.63s\n",
      "epoch 3/5 | batch 200/1594 | loss: 3.8257061767578127 | elap: 178.94s\n",
      "epoch 3/5 | batch 300/1594 | loss: 3.8009443044662476 | elap: 184.23s\n",
      "epoch 3/5 | batch 400/1594 | loss: 3.835041708946228 | elap: 189.53s\n",
      "epoch 3/5 | batch 500/1594 | loss: 3.8281397151947023 | elap: 194.83s\n",
      "epoch 3/5 | batch 600/1594 | loss: 3.828693654537201 | elap: 200.11s\n",
      "epoch 3/5 | batch 700/1594 | loss: 3.8305464148521424 | elap: 205.37s\n",
      "epoch 3/5 | batch 800/1594 | loss: 3.7979384779930117 | elap: 210.65s\n",
      "epoch 3/5 | batch 900/1594 | loss: 3.8240906167030335 | elap: 215.96s\n",
      "epoch 3/5 | batch 1000/1594 | loss: 3.8194768953323366 | elap: 221.25s\n",
      "epoch 3/5 | batch 1100/1594 | loss: 3.81754864692688 | elap: 226.55s\n",
      "epoch 3/5 | batch 1200/1594 | loss: 3.809379379749298 | elap: 231.86s\n",
      "epoch 3/5 | batch 1300/1594 | loss: 3.817556040287018 | elap: 237.16s\n",
      "epoch 3/5 | batch 1400/1594 | loss: 3.811478533744812 | elap: 242.45s\n",
      "epoch 3/5 | batch 1500/1594 | loss: 3.834181966781616 | elap: 247.83s\n",
      "epoch 4/5 | batch 100/1594 | loss: 3.8121996974945067 | elap: 258.31s\n",
      "epoch 4/5 | batch 200/1594 | loss: 3.822437880039215 | elap: 263.68s\n",
      "epoch 4/5 | batch 300/1594 | loss: 3.7975215768814086 | elap: 268.99s\n",
      "epoch 4/5 | batch 400/1594 | loss: 3.8355249547958374 | elap: 274.38s\n",
      "epoch 4/5 | batch 500/1594 | loss: 3.825997679233551 | elap: 279.70s\n",
      "epoch 4/5 | batch 600/1594 | loss: 3.8259912157058715 | elap: 285.11s\n",
      "epoch 4/5 | batch 700/1594 | loss: 3.8265743470191955 | elap: 290.59s\n",
      "epoch 4/5 | batch 800/1594 | loss: 3.7945455622673037 | elap: 296.14s\n",
      "epoch 4/5 | batch 900/1594 | loss: 3.8222956085205078 | elap: 301.68s\n",
      "epoch 4/5 | batch 1000/1594 | loss: 3.817724766731262 | elap: 307.19s\n",
      "epoch 4/5 | batch 1100/1594 | loss: 3.8153114676475526 | elap: 312.47s\n",
      "epoch 4/5 | batch 1200/1594 | loss: 3.8053177547454835 | elap: 317.76s\n",
      "epoch 4/5 | batch 1300/1594 | loss: 3.815119435787201 | elap: 323.08s\n",
      "epoch 4/5 | batch 1400/1594 | loss: 3.8109747433662413 | elap: 328.36s\n",
      "epoch 4/5 | batch 1500/1594 | loss: 3.832430543899536 | elap: 333.65s\n",
      "epoch 5/5 | batch 100/1594 | loss: 3.810562651157379 | elap: 343.84s\n",
      "epoch 5/5 | batch 200/1594 | loss: 3.8224971437454225 | elap: 349.16s\n",
      "epoch 5/5 | batch 300/1594 | loss: 3.7952298808097837 | elap: 354.43s\n",
      "epoch 5/5 | batch 400/1594 | loss: 3.8345547413825987 | elap: 359.69s\n",
      "epoch 5/5 | batch 500/1594 | loss: 3.824177703857422 | elap: 364.97s\n",
      "epoch 5/5 | batch 600/1594 | loss: 3.826385235786438 | elap: 370.27s\n",
      "epoch 5/5 | batch 700/1594 | loss: 3.826580293178558 | elap: 375.54s\n",
      "epoch 5/5 | batch 800/1594 | loss: 3.794566113948822 | elap: 380.83s\n",
      "epoch 5/5 | batch 900/1594 | loss: 3.820249629020691 | elap: 386.28s\n",
      "epoch 5/5 | batch 1000/1594 | loss: 3.817487185001373 | elap: 391.61s\n",
      "epoch 5/5 | batch 1100/1594 | loss: 3.813745243549347 | elap: 396.88s\n",
      "epoch 5/5 | batch 1200/1594 | loss: 3.8061770272254942 | elap: 402.14s\n",
      "epoch 5/5 | batch 1300/1594 | loss: 3.813569390773773 | elap: 407.43s\n",
      "epoch 5/5 | batch 1400/1594 | loss: 3.809859583377838 | elap: 412.82s\n",
      "epoch 5/5 | batch 1500/1594 | loss: 3.832339789867401 | elap: 418.16s\n"
     ]
    }
   ],
   "source": [
    "criterion = nn.CrossEntropyLoss(label_smoothing=0.1)\n",
    "optimizer = torch.optim.Adam(model.parameters(), lr=lr)\n",
    "\n",
    "loss_history = training(model, dl, criterion, optimizer, num_epochs=5, device=device)"
   ]
  },
  {
   "cell_type": "code",
   "execution_count": 25,
   "metadata": {},
   "outputs": [],
   "source": [
    "# save the model\n",
    "torch.save(model.state_dict(), f\"{piece}_lossL1_channel14_relu_epc10_batsize64_lr{lr}.pth\")"
   ]
  },
  {
   "cell_type": "code",
   "execution_count": 92,
   "metadata": {},
   "outputs": [
    {
     "data": {
      "text/plain": [
       "[<matplotlib.lines.Line2D at 0x1e3e5fa1650>]"
      ]
     },
     "execution_count": 92,
     "metadata": {},
     "output_type": "execute_result"
    },
    {
     "data": {
      "image/png": "[encoded data removed]",
      "text/plain": [
       "<Figure size 640x480 with 1 Axes>"
      ]
     },
     "metadata": {},
     "output_type": "display_data"
    }
   ],
   "source": [
    "# plot loss history\n",
    "plt.plot(loss_history)"
   ]
  },
  {
   "cell_type": "markdown",
   "metadata": {},
   "source": [
    "## Evaluation"
   ]
  },
  {
   "cell_type": "code",
   "execution_count": 44,
   "metadata": {},
   "outputs": [
    {
     "data": {
      "text/plain": [
       "<All keys matched successfully>"
      ]
     },
     "execution_count": 44,
     "metadata": {},
     "output_type": "execute_result"
    }
   ],
   "source": [
    "# load the model\n",
    "piece = \"p\"\n",
    "model = ChessNet(\n",
    "    num_classes=64,\n",
    "    num_channels=7,\n",
    "    activation=nn.ReLU(inplace=True),\n",
    ").to(device)\n",
    "\n",
    "model.load_state_dict(\n",
    "    torch.load(\n",
    "        f\"checkpoint/move_selection/move_{piece}_leakyrelu0.05_epc10_batsize128.pth\"\n",
    "    )\n",
    ")"
   ]
  },
  {
   "cell_type": "code",
   "execution_count": 93,
   "metadata": {},
   "outputs": [
    {
     "data": {
      "text/plain": [
       "(torch.Size([14, 8, 8]), torch.Size([64]), 101971)"
      ]
     },
     "execution_count": 93,
     "metadata": {},
     "output_type": "execute_result"
    }
   ],
   "source": [
    "test_samples = filter_by_piece(test_above_1800, piece)\n",
    "test_ds = ChessDataset(test_samples, mask_move=True, add_legal_moves=True)\n",
    "test_dl = DataLoader(test_ds, batch_size=64, shuffle=False)\n",
    "\n",
    "# sample from the dataset\n",
    "x, y = test_ds[0]\n",
    "x.shape, y.shape, len(ds)"
   ]
  },
  {
   "cell_type": "code",
   "execution_count": 94,
   "metadata": {},
   "outputs": [
    {
     "name": "stderr",
     "output_type": "stream",
     "text": [
      "100%|██████████| 402/402 [00:19<00:00, 20.64it/s]"
     ]
    },
    {
     "name": "stdout",
     "output_type": "stream",
     "text": [
      "Accuracy argmax move: 1.011%\n"
     ]
    },
    {
     "name": "stderr",
     "output_type": "stream",
     "text": [
      "\n"
     ]
    }
   ],
   "source": [
    "model.eval()\n",
    "total = 0\n",
    "correct = 0\n",
    "\n",
    "for idx, (x, y) in enumerate(tqdm(test_dl)):\n",
    "    x, y = x.to(device), y.to(device)\n",
    "    output = model(x)\n",
    "    pred_y = argmax_move(output)\n",
    "    correct += (pred_y == y).all(dim=1).sum().item()\n",
    "    total += y.size(0)\n",
    "\n",
    "print(f\"Accuracy argmax move: {(correct/total) * 100:.3f}%\")"
   ]
  },
  {
   "cell_type": "code",
   "execution_count": 95,
   "metadata": {},
   "outputs": [
    {
     "name": "stderr",
     "output_type": "stream",
     "text": [
      "100%|██████████| 402/402 [00:26<00:00, 14.97it/s]"
     ]
    },
    {
     "name": "stdout",
     "output_type": "stream",
     "text": [
      "Accuracy argmax move: 1.785%\n"
     ]
    },
    {
     "name": "stderr",
     "output_type": "stream",
     "text": [
      "\n"
     ]
    }
   ],
   "source": [
    "model.eval()\n",
    "total = 0\n",
    "correct = 0\n",
    "\n",
    "for idx, (x, y) in enumerate(tqdm(test_dl)):\n",
    "    x, y = x.to(device), y.to(device)\n",
    "    output = model(x)\n",
    "    output = torch.softmax(output, dim=1)\n",
    "    pred_y = sample_move(output)\n",
    "    correct += (pred_y == y).all(dim=1).sum().item()\n",
    "    total += y.size(0)\n",
    "\n",
    "print(f\"Accuracy argmax move: {(correct/total) * 100:.3f}%\")"
   ]
  },
  {
   "cell_type": "markdown",
   "metadata": {},
   "source": [
    "# Results\n",
    "\n",
    "Piece selection(70 epochs, batch size 256): 43.996%\n",
    "\n",
    "Move selection(10 epochs, batch size 128)\n",
    "* Pawn: 89.047%\n",
    "* Knight: 73% \n",
    "* Rook: 56.261% - 57.752%\n",
    "* Bishop: 66.328%\n",
    "* Queen: 43.269% - 45.054% - 46.778%\n",
    "* King: 68.859%\n"
   ]
  }
 ],
 "metadata": {
  "kernelspec": {
   "display_name": "Python 3",
   "language": "python",
   "name": "python3"
  },
  "language_info": {
   "codemirror_mode": {
    "name": "ipython",
    "version": 3
   },
   "file_extension": ".py",
   "mimetype": "text/x-python",
   "name": "python",
   "nbconvert_exporter": "python",
   "pygments_lexer": "ipython3",
   "version": "3.11.6"
  }
 },
 "nbformat": 4,
 "nbformat_minor": 2
}
