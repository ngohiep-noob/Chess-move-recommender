{
 "cells": [
  {
   "cell_type": "markdown",
   "metadata": {},
   "source": [
    "# Setup"
   ]
  },
  {
   "cell_type": "code",
   "execution_count": 2,
   "metadata": {},
   "outputs": [],
   "source": [
    "import pickle\n",
    "from model import ChessNet\n",
    "import torch\n",
    "import torch.nn as nn\n",
    "import matplotlib.pyplot as plt\n",
    "from torch.utils.data import DataLoader\n",
    "from tqdm import tqdm\n",
    "from dataset import *\n",
    "from utils import *"
   ]
  },
  {
   "cell_type": "code",
   "execution_count": 3,
   "metadata": {},
   "outputs": [],
   "source": [
    "TEST_SEGMENT = 'below_1450'"
   ]
  },
  {
   "cell_type": "code",
   "execution_count": 4,
   "metadata": {},
   "outputs": [
    {
     "data": {
      "text/plain": [
       "167298"
      ]
     },
     "execution_count": 4,
     "metadata": {},
     "output_type": "execute_result"
    }
   ],
   "source": [
    "test_samples = read_data_sample(f\"data/test_{TEST_SEGMENT}_15kCUTOFF.pkl\")\n",
    "len(test_samples)"
   ]
  },
  {
   "cell_type": "code",
   "execution_count": 5,
   "metadata": {},
   "outputs": [],
   "source": [
    "device = torch.device(\"cuda\" if torch.cuda.is_available() else \"cpu\")"
   ]
  },
  {
   "cell_type": "code",
   "execution_count": 126,
   "metadata": {},
   "outputs": [],
   "source": [
    "# get the move from argmax of the predicted distribution\n",
    "def argmax_move(batch: torch.Tensor, topk=1):\n",
    "    sort_idx = torch.argsort(batch, dim=1, descending=True)\n",
    "    pred_y = torch.zeros_like(batch)\n",
    "\n",
    "    for i in range(topk):\n",
    "        pred_y.scatter_(1, sort_idx[:, i : i + 1], 1)\n",
    "\n",
    "    return pred_y.to(device)\n",
    "\n",
    "\n",
    "# sample the move from the predicted distribution\n",
    "def sample_move(batch: torch.Tensor):\n",
    "    pred_y = torch.zeros_like(batch)\n",
    "    for i in range(batch.shape[0]):\n",
    "        move = torch.multinomial(batch[i], 1)\n",
    "        pred_y[i, move] = 1\n",
    "\n",
    "    return pred_y.to(device)\n",
    "\n",
    "\n",
    "def eval(model, dl, topk=1):\n",
    "    model.eval()\n",
    "    total = 0\n",
    "    correct = 0\n",
    "\n",
    "    for idx, (x, y) in enumerate(tqdm(dl)):\n",
    "        x, y = x.to(device), y.to(device)\n",
    "        output = model(x)\n",
    "\n",
    "        pred_y = argmax_move(output)\n",
    "        correct += (pred_y == y).all(dim=1).sum().item()\n",
    "        total += y.size(0)\n",
    "\n",
    "    return correct / total"
   ]
  },
  {
   "cell_type": "code",
   "execution_count": 127,
   "metadata": {},
   "outputs": [],
   "source": [
    "piece = 'q'\n",
    "checkpoint = f'{piece}_c14_relu_epc15_batsize256_lr0.003'\n",
    "# checkpoint = 'relu_epc15_batsize256_lr0.003'"
   ]
  },
  {
   "cell_type": "markdown",
   "metadata": {},
   "source": [
    "# Loss history"
   ]
  },
  {
   "cell_type": "code",
   "execution_count": 128,
   "metadata": {},
   "outputs": [
    {
     "data": {
      "image/png": "[encoded data removed]",
      "text/plain": [
       "<Figure size 640x480 with 1 Axes>"
      ]
     },
     "metadata": {},
     "output_type": "display_data"
    }
   ],
   "source": [
    "with open(f\"log/{TEST_SEGMENT}/{checkpoint}.log\", \"rb\") as f:\n",
    "    loss_hist = pickle.load(f)\n",
    "\n",
    "# plot loss history\n",
    "plt.plot(loss_hist)\n",
    "plt.ylabel(\"Loss\")\n",
    "plt.title(\"Piece Selection Model Loss\")\n",
    "plt.show()"
   ]
  },
  {
   "cell_type": "markdown",
   "metadata": {},
   "source": [
    "# Move selection"
   ]
  },
  {
   "cell_type": "code",
   "execution_count": 129,
   "metadata": {},
   "outputs": [
    {
     "data": {
      "text/plain": [
       "23995"
      ]
     },
     "execution_count": 129,
     "metadata": {},
     "output_type": "execute_result"
    }
   ],
   "source": [
    "test_samples = filter_by_piece(test_samples, piece)\n",
    "len(test_samples)"
   ]
  },
  {
   "cell_type": "code",
   "execution_count": 130,
   "metadata": {},
   "outputs": [
    {
     "data": {
      "text/plain": [
       "<All keys matched successfully>"
      ]
     },
     "execution_count": 130,
     "metadata": {},
     "output_type": "execute_result"
    }
   ],
   "source": [
    "model = ChessNet(\n",
    "    num_classes=64,\n",
    "    num_channels=14,\n",
    "    activation=nn.ReLU(inplace=True),\n",
    ").to(device)\n",
    "\n",
    "model.load_state_dict(torch.load(f\"checkpoint/{TEST_SEGMENT}/move_selection/{checkpoint}.ckpt\"))"
   ]
  },
  {
   "cell_type": "code",
   "execution_count": 131,
   "metadata": {},
   "outputs": [],
   "source": [
    "# test_samples_ds = PieceSelectionGroupedDataset(test_samples)\n",
    "test_ds = ChessDataset(test_samples, mask_move=True, add_legal_moves=True)\n",
    "test_dl = DataLoader(test_ds, batch_size=256, shuffle=False)"
   ]
  },
  {
   "cell_type": "code",
   "execution_count": 132,
   "metadata": {},
   "outputs": [
    {
     "name": "stderr",
     "output_type": "stream",
     "text": [
      "100%|██████████| 94/94 [00:13<00:00,  6.93it/s]"
     ]
    },
    {
     "name": "stdout",
     "output_type": "stream",
     "text": [
      "Accuracy on q: 47.614%\n"
     ]
    },
    {
     "name": "stderr",
     "output_type": "stream",
     "text": [
      "\n"
     ]
    }
   ],
   "source": [
    "print(f'Accuracy on {piece}: {eval(model, test_dl)*100:.3f}%')"
   ]
  },
  {
   "cell_type": "markdown",
   "metadata": {},
   "source": [
    "# Piece selection"
   ]
  },
  {
   "cell_type": "code",
   "execution_count": null,
   "metadata": {},
   "outputs": [],
   "source": [
    "model = ChessNet(\n",
    "    num_classes=64,\n",
    "    num_channels=13,\n",
    "    activation=nn.ReLU(inplace=True),\n",
    ").to(device)\n",
    "\n",
    "model.load_state_dict(torch.load(f\"checkpoint/{TEST_SEGMENT}/piece_selection/{checkpoint}.ckpt\"))"
   ]
  },
  {
   "cell_type": "code",
   "execution_count": 16,
   "metadata": {},
   "outputs": [],
   "source": [
    "# test_samples_ds = PieceSelectionGroupedDataset(test_samples)\n",
    "test_ds = ChessDataset(test_samples, add_legal_moves=True)\n",
    "test_dl = DataLoader(test_ds, batch_size=512, shuffle=False)"
   ]
  },
  {
   "cell_type": "code",
   "execution_count": 17,
   "metadata": {},
   "outputs": [
    {
     "name": "stderr",
     "output_type": "stream",
     "text": [
      "100%|██████████| 44/44 [00:08<00:00,  4.89it/s]"
     ]
    },
    {
     "name": "stdout",
     "output_type": "stream",
     "text": [
      "Accuracy of piece selection model: 52.457%\n"
     ]
    },
    {
     "name": "stderr",
     "output_type": "stream",
     "text": [
      "\n"
     ]
    }
   ],
   "source": [
    "print(f'Accuracy of piece selection model: {eval(model, test_dl)*100:.3f}%')"
   ]
  },
  {
   "cell_type": "markdown",
   "metadata": {},
   "source": [
    "# Result"
   ]
  },
  {
   "cell_type": "markdown",
   "metadata": {},
   "source": [
    "### Above 1800"
   ]
  },
  {
   "cell_type": "markdown",
   "metadata": {},
   "source": [
    "- Move selection(15ep - relu - lr0.003 - batsize256 - 14 channel encoding)\n",
    "    - Acc@1\n",
    "        - Pawn: 88.273%\n",
    "        - King: 71.578%\n",
    "        - Queen: 46.004%\n",
    "        - Rock: 55.583%\n",
    "        - Bishop: 65.647%\n",
    "        - Knight: 72.058%\n",
    "    - Acc@3: \n",
    "        - Pawn: 99.857%\n",
    "        - King: 92.466%\n",
    "        - Queen: 63.090%\n",
    "        - Rock: 73.777%\n",
    "        - Bishop: 85.925%\n",
    "        - Knight: 91.969%\n",
    "    - Acc@5: \n",
    "        - Pawn: 99.974%\n",
    "        - King: 96.436%\n",
    "        - Queen: 70.876%\n",
    "        - Rock: 81.576%\n",
    "        - Bishop: 91.538%\n",
    "        - Knight: 96.414%\n",
    "- Piece selection:\n",
    "    - Acc@1: 37.022%\n",
    "    - Acc@3: 56.849%\n",
    "    - Acc@5: 64.951%"
   ]
  }
 ],
 "metadata": {
  "kernelspec": {
   "display_name": "vsp",
   "language": "python",
   "name": "python3"
  },
  "language_info": {
   "codemirror_mode": {
    "name": "ipython",
    "version": 3
   },
   "file_extension": ".py",
   "mimetype": "text/x-python",
   "name": "python",
   "nbconvert_exporter": "python",
   "pygments_lexer": "ipython3",
   "version": "3.11.6"
  }
 },
 "nbformat": 4,
 "nbformat_minor": 2
}
