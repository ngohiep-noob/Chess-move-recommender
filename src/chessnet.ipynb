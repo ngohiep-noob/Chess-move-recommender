{
 "cells": [
  {
   "cell_type": "markdown",
   "metadata": {},
   "source": [
    "# Import"
   ]
  },
  {
   "cell_type": "code",
   "execution_count": 1,
   "metadata": {},
   "outputs": [],
   "source": [
    "from model import ChessNet\n",
    "import torch\n",
    "import torch.nn as nn\n",
    "from torchsummary import summary\n",
    "import pandas as pd\n",
    "from utils import read_pgn\n",
    "import chess\n",
    "from IPython.display import display, clear_output\n",
    "from time import sleep\n",
    "from torch.utils.data import DataLoader, Dataset\n",
    "from typing import List, Tuple\n",
    "from tqdm import tqdm\n",
    "import matplotlib.pyplot as plt\n",
    "from sklearn.model_selection import train_test_split\n",
    "import pickle\n",
    "import os\n",
    "import gc"
   ]
  },
  {
   "cell_type": "code",
   "execution_count": 2,
   "metadata": {},
   "outputs": [],
   "source": [
    "device = torch.device(\"cuda\" if torch.cuda.is_available() else \"cpu\")"
   ]
  },
  {
   "cell_type": "markdown",
   "metadata": {},
   "source": [
    "# Data preprocessing"
   ]
  },
  {
   "cell_type": "code",
   "execution_count": 3,
   "metadata": {},
   "outputs": [],
   "source": [
    "df1 = pd.read_csv(\"../games_metadata_profile.csv\")\n",
    "df2 = pd.read_csv(\"../games_metadata_profile_2024_01.csv\")\n",
    "\n",
    "\n",
    "def format_game_mode(x):\n",
    "    if \"Classical\" in x:\n",
    "        return \"Classical game\"\n",
    "    elif \"Bullet\" in x:\n",
    "        return \"Bullet game\"\n",
    "    elif \"Blitz\" in x:\n",
    "        return \"Blitz game\"\n",
    "    elif \"UltraBullet\" in x:\n",
    "        return \"UltraBullet game\"\n",
    "    elif \"Rapid\" in x:\n",
    "        return \"Rapid game\"\n",
    "    elif \"Correspondence\" in x:\n",
    "        return \"Correspondence game\"\n",
    "    else:\n",
    "        return x\n",
    "\n",
    "\n",
    "df = pd.concat([df1, df2], ignore_index=True)\n",
    "\n",
    "df[\"Mode\"] = df[\"Event\"].apply(format_game_mode)\n",
    "\n",
    "df = df[df[\"Mode\"] == \"Blitz game\"]"
   ]
  },
  {
   "cell_type": "code",
   "execution_count": 4,
   "metadata": {},
   "outputs": [
    {
     "name": "stdout",
     "output_type": "stream",
     "text": [
      "# games with average elo below 1450: (30057, 34)\n",
      "# games with average elo between 1450 and 1800: (32038, 34)\n",
      "# games with average elo above 1800: (31863, 34)\n"
     ]
    },
    {
     "data": {
      "text/plain": [
       "0"
      ]
     },
     "execution_count": 4,
     "metadata": {},
     "output_type": "execute_result"
    }
   ],
   "source": [
    "df_elo_below_1450 = df[(df[\"WhiteElo\"] + df[\"BlackElo\"]) / 2 <= 1450]\n",
    "df_elo_1450_to_1800 = df[\n",
    "    ((df[\"WhiteElo\"] + df[\"BlackElo\"]) / 2 > 1450)\n",
    "    & ((df[\"WhiteElo\"] + df[\"BlackElo\"]) / 2 <= 1800)\n",
    "]\n",
    "df_elo_above_1800 = df[(df[\"WhiteElo\"] + df[\"BlackElo\"]) / 2 > 1800]\n",
    "\n",
    "print(f\"# games with average elo below 1450: {df_elo_below_1450.shape}\")\n",
    "\n",
    "print(f\"# games with average elo between 1450 and 1800: {df_elo_1450_to_1800.shape}\")\n",
    "\n",
    "print(f\"# games with average elo above 1800: {df_elo_above_1800.shape}\")\n",
    "\n",
    "del df1, df2, df\n",
    "gc.collect()"
   ]
  },
  {
   "cell_type": "code",
   "execution_count": 5,
   "metadata": {},
   "outputs": [
    {
     "name": "stdout",
     "output_type": "stream",
     "text": [
      "# games with average elo below 1450: (15000, 34)\n",
      "# games with average elo between 1450 and 1800: (15000, 34)\n",
      "# games with average elo above 1800: (15000, 34)\n"
     ]
    }
   ],
   "source": [
    "cutoff = 15000  # number of games to use for each partition\n",
    "\n",
    "df_elo_below_1450 = df_elo_below_1450.sample(cutoff)\n",
    "\n",
    "df_elo_1450_to_1800 = df_elo_1450_to_1800.sample(cutoff)\n",
    "\n",
    "df_elo_above_1800 = df_elo_above_1800.sample(cutoff)\n",
    "\n",
    "print(f\"# games with average elo below 1450: {df_elo_below_1450.shape}\")\n",
    "\n",
    "print(f\"# games with average elo between 1450 and 1800: {df_elo_1450_to_1800.shape}\")\n",
    "\n",
    "print(f\"# games with average elo above 1800: {df_elo_above_1800.shape}\")"
   ]
  },
  {
   "cell_type": "code",
   "execution_count": 6,
   "metadata": {},
   "outputs": [],
   "source": [
    "# move ==> (_from, _to, board)\n",
    "# board ==> 8x8 numpy array\n",
    "def process_game(moves: List[chess.Move]):\n",
    "    board = chess.Board()\n",
    "    samples = []\n",
    "    for move in moves:\n",
    "        _from, _to = move.from_square, move.to_square\n",
    "        # from square index to algebraic notation\n",
    "        piece = board.piece_at(_from)\n",
    "        _from, _to = chess.SQUARE_NAMES[_from], chess.SQUARE_NAMES[_to]\n",
    "        samples.append((str(_from), str(_to), str(piece), board.fen()))\n",
    "        board.push(move)\n",
    "\n",
    "    return samples"
   ]
  },
  {
   "cell_type": "code",
   "execution_count": 7,
   "metadata": {},
   "outputs": [],
   "source": [
    "def pgns_to_samples(\n",
    "    game_pgns: List[str] = None,\n",
    "    save_dir: str = None,\n",
    "    suffix: str = \"\",\n",
    "    write_to_disk: bool = True,\n",
    "):\n",
    "    assert (\n",
    "        game_pgns is not None or save_dir is not None\n",
    "    ), \"game_pgns OR save_dir must be provided\"\n",
    "\n",
    "    is_train_saved = False\n",
    "    is_test_saved = False\n",
    "    train_samples = []\n",
    "    test_samples = []\n",
    "    if save_dir:\n",
    "        if f\"train_{suffix}.pkl\" in os.listdir(save_dir):\n",
    "            print(\"Loading train samples from disk\")\n",
    "            is_train_saved = True\n",
    "            with open(f\"{save_dir}/train_{suffix}.pkl\", \"rb\") as f:\n",
    "                train_samples = pickle.load(f)\n",
    "\n",
    "        if f\"test_{suffix}.pkl\" in os.listdir(save_dir):\n",
    "            print(\"Loading test samples from disk\")\n",
    "            is_test_saved = True\n",
    "            with open(f\"{save_dir}/test_{suffix}.pkl\", \"rb\") as f:\n",
    "                test_samples = pickle.load(f)\n",
    "\n",
    "    if game_pgns is not None:\n",
    "        train_pgn, test_pgn = train_test_split(\n",
    "            game_pgns, test_size=0.2, random_state=42\n",
    "        )\n",
    "\n",
    "        if not is_train_saved:\n",
    "            print(\"Processing train samples\")\n",
    "            for game_pgn in tqdm(train_pgn):\n",
    "                game_moves = read_pgn(game_pgn)\n",
    "                train_samples.extend(process_game(game_moves))\n",
    "            if write_to_disk:\n",
    "                with open(f\"{save_dir}/train_{suffix}.pkl\", \"wb\") as f:\n",
    "                    pickle.dump(train_samples, f)\n",
    "                    print(f\"Train samples saved to {save_dir}/train_{suffix}.pkl\")\n",
    "\n",
    "        if not is_test_saved:\n",
    "            print(\"Processing test samples\")\n",
    "            for game_pgn in tqdm(test_pgn):\n",
    "                game_moves = read_pgn(game_pgn)\n",
    "                test_samples.extend(process_game(game_moves))\n",
    "            if write_to_disk:\n",
    "                with open(f\"{save_dir}/test_{suffix}.pkl\", \"wb\") as f:\n",
    "                    pickle.dump(test_samples, f)\n",
    "                    print(f\"Test samples saved to {save_dir}/test_{suffix}.pkl\")\n",
    "    # remove duplicates\n",
    "    train_samples = list(set(train_samples))\n",
    "    test_samples = list(set(test_samples))\n",
    "    return train_samples, test_samples"
   ]
  },
  {
   "cell_type": "code",
   "execution_count": 8,
   "metadata": {},
   "outputs": [],
   "source": [
    "game_below_1450 = df_elo_below_1450[\"Moves\"].values\n",
    "game_1450_to_1800 = df_elo_1450_to_1800[\"Moves\"].values\n",
    "game_above_1800 = df_elo_above_1800[\"Moves\"].values"
   ]
  },
  {
   "cell_type": "code",
   "execution_count": 9,
   "metadata": {},
   "outputs": [
    {
     "name": "stdout",
     "output_type": "stream",
     "text": [
      "Processing train samples\n"
     ]
    },
    {
     "name": "stderr",
     "output_type": "stream",
     "text": [
      "100%|██████████| 12000/12000 [00:38<00:00, 314.07it/s]\n"
     ]
    },
    {
     "name": "stdout",
     "output_type": "stream",
     "text": [
      "Train samples saved to data/train_below_1450_15kCUTOFF.pkl\n",
      "Processing test samples\n"
     ]
    },
    {
     "name": "stderr",
     "output_type": "stream",
     "text": [
      "100%|██████████| 3000/3000 [00:09<00:00, 311.91it/s]\n"
     ]
    },
    {
     "name": "stdout",
     "output_type": "stream",
     "text": [
      "Test samples saved to data/test_below_1450_15kCUTOFF.pkl\n",
      "Processing train samples\n"
     ]
    },
    {
     "name": "stderr",
     "output_type": "stream",
     "text": [
      "100%|██████████| 12000/12000 [00:41<00:00, 289.52it/s]\n"
     ]
    },
    {
     "name": "stdout",
     "output_type": "stream",
     "text": [
      "Train samples saved to data/train_1450_to_1800_15kCUTOFF.pkl\n",
      "Processing test samples\n"
     ]
    },
    {
     "name": "stderr",
     "output_type": "stream",
     "text": [
      "100%|██████████| 3000/3000 [00:10<00:00, 285.75it/s]\n"
     ]
    },
    {
     "name": "stdout",
     "output_type": "stream",
     "text": [
      "Test samples saved to data/test_1450_to_1800_15kCUTOFF.pkl\n",
      "Processing train samples\n"
     ]
    },
    {
     "name": "stderr",
     "output_type": "stream",
     "text": [
      "100%|██████████| 12000/12000 [00:44<00:00, 268.51it/s]\n"
     ]
    },
    {
     "name": "stdout",
     "output_type": "stream",
     "text": [
      "Train samples saved to data/train_above_1800_15kCUTOFF.pkl\n",
      "Processing test samples\n"
     ]
    },
    {
     "name": "stderr",
     "output_type": "stream",
     "text": [
      "100%|██████████| 3000/3000 [00:11<00:00, 265.98it/s]\n"
     ]
    },
    {
     "name": "stdout",
     "output_type": "stream",
     "text": [
      "Test samples saved to data/test_above_1800_15kCUTOFF.pkl\n"
     ]
    }
   ],
   "source": [
    "train_below_1450, test_below_1450 = pgns_to_samples(\n",
    "    save_dir=\"data\",\n",
    "    suffix=\"below_1450_15kCUTOFF\",\n",
    "    # write_to_disk=False,\n",
    "    game_pgns=game_below_1450\n",
    ")\n",
    "train_1450_to_1800, test_1450_to_1800 = pgns_to_samples(\n",
    "    save_dir=\"data\",\n",
    "    suffix=\"1450_to_1800_15kCUTOFF\",\n",
    "    # write_to_disk=False,\n",
    "    game_pgns=game_1450_to_1800\n",
    ")\n",
    "train_above_1800, test_above_1800 = pgns_to_samples(\n",
    "    save_dir=\"data\",\n",
    "    suffix=\"above_1800_15kCUTOFF\",\n",
    "    # write_to_disk=False,\n",
    "    game_pgns=game_above_1800\n",
    ")"
   ]
  },
  {
   "cell_type": "code",
   "execution_count": 6,
   "metadata": {},
   "outputs": [
    {
     "name": "stdout",
     "output_type": "stream",
     "text": [
      "# train samples below 1450: 663358\n",
      "# train samples between 1450 and 1800: 713766\n",
      "# train samples above 1800: 779151\n"
     ]
    }
   ],
   "source": [
    "print(f\"# train samples below 1450: {len(train_below_1450)}\")\n",
    "print(f\"# train samples between 1450 and 1800: {len(train_1450_to_1800)}\")\n",
    "print(f\"# train samples above 1800: {len(train_above_1800)}\")"
   ]
  },
  {
   "cell_type": "code",
   "execution_count": 7,
   "metadata": {},
   "outputs": [],
   "source": [
    "# encode board into 6 channel tensor\n",
    "# each channel represents a different type of piece\n",
    "# 0: empty square\n",
    "# 1: white pieces, 2: black pieces\n",
    "# 1st channel: pawns, 2nd channel: knights, 3rd channel: bishops\n",
    "# 4th channel: rooks, 5th channel: queens, 6th channel: kings\n",
    "def transform_board(board, mask_loc: str = None) -> torch.Tensor:\n",
    "    piece_map = {\n",
    "        \"p\": 1,\n",
    "        \"n\": 2,\n",
    "        \"b\": 3,\n",
    "        \"r\": 4,\n",
    "        \"q\": 5,\n",
    "        \"k\": 6,\n",
    "    }\n",
    "    board_tensor = torch.zeros(6, 8, 8)\n",
    "    for i in range(8):\n",
    "        for j in range(8):\n",
    "            piece = board.piece_at(chess.square(i, j))\n",
    "            if piece is not None:\n",
    "                color = 1 if piece.color == chess.WHITE else -1\n",
    "                piece_symbol = piece.symbol().lower()\n",
    "                board_tensor[piece_map[piece_symbol] - 1, i, j] = color\n",
    "\n",
    "    if mask_loc is not None:  # add new channels of mask to the board tensor\n",
    "        mask_tensor = torch.zeros(1, 8, 8)\n",
    "        # convert mask_loc san to square index\n",
    "        mask_square = chess.parse_square(mask_loc)\n",
    "        piece = board.piece_at(mask_square)\n",
    "        if piece is None:\n",
    "            raise ValueError(f\"no piece at mask square {mask_loc}\")\n",
    "        mask_tensor[0, mask_square % 8, mask_square // 8] = (\n",
    "            1 if piece.color == chess.WHITE else -1\n",
    "        )\n",
    "        board_tensor = torch.cat((board_tensor, mask_tensor), dim=0)\n",
    "\n",
    "    return board_tensor"
   ]
  },
  {
   "cell_type": "code",
   "execution_count": 8,
   "metadata": {},
   "outputs": [],
   "source": [
    "# group samples with the same board state, produce a probability distribution of moves\n",
    "# sample ==> {board: {\n",
    "#   piece: count\n",
    "# }}\n",
    "\n",
    "\n",
    "def group_board(samples):\n",
    "    board_grouped = {}\n",
    "\n",
    "    # count the number of moves for each piece in each board state\n",
    "    for sample in samples:\n",
    "        _from, _to, piece, board_fen = sample\n",
    "        board_position = board_fen.split(\" \")[0]\n",
    "\n",
    "        if board_position not in board_grouped:\n",
    "\n",
    "            board_grouped[board_position] = {\"total\": 0}\n",
    "\n",
    "\n",
    "        for idx, subkey in enumerate(\n",
    "            [\n",
    "                _from\n",
    "                #   , _to\n",
    "            ]\n",
    "        ):\n",
    "            # if idx == 0: # specicial prefix to denote from or to\n",
    "            #     subkey = f\"f{subkey}\"\n",
    "            # else:\n",
    "            #     subkey = f\"t{subkey}\"\n",
    "            if subkey not in board_grouped[board_position]:\n",
    "                board_grouped[board_position][subkey] = 0\n",
    "            board_grouped[board_position][subkey] += 1\n",
    "\n",
    "\n",
    "        board_grouped[board_position][\"total\"] += 1\n",
    "\n",
    "    # convert the count to probability distribution\n",
    "    for board_position in board_grouped:\n",
    "\n",
    "        total = board_grouped[board_position][\"total\"]\n",
    "\n",
    "        for subkey in board_grouped[board_position]:\n",
    "            if subkey == \"total\":\n",
    "                continue\n",
    "            board_grouped[board_position][subkey] /= total\n",
    "\n",
    "        del board_grouped[board_position][\"total\"]\n",
    "\n",
    "    # dict to list\n",
    "\n",
    "    board_grouped = list(board_grouped.items())\n",
    "    return board_grouped"
   ]
  },
  {
   "cell_type": "code",
   "execution_count": 9,
   "metadata": {},
   "outputs": [],
   "source": [
    "# transform piece distribution to tensor label\n",
    "# piece_distribution = {'e1': 0.5, 'd2': 0.2, ...}\n",
    "# piece_distribution ==> tensor(64)\n",
    "def piece_distribution_to_label(piece_distribution):\n",
    "    label = torch.zeros(64)\n",
    "\n",
    "    for i, piece in enumerate(piece_distribution):\n",
    "        idx = chess.parse_square(piece)\n",
    "        label[idx] = piece_distribution[piece]\n",
    "\n",
    "    return label"
   ]
  },
  {
   "cell_type": "code",
   "execution_count": 10,
   "metadata": {},
   "outputs": [],
   "source": [
    "def filter_by_piece(samples: List[Tuple[str, str, str, str]], piece: str):\n",
    "    return list(filter(lambda x: x[2].lower() == piece, samples))"
   ]
  },
  {
   "cell_type": "markdown",
   "metadata": {},
   "source": [
    "# Dataset"
   ]
  },
  {
   "cell_type": "code",
   "execution_count": 11,
   "metadata": {},
   "outputs": [],
   "source": [
    "class ChessGroupedDataset(Dataset):\n",
    "    def __init__(self, grouped_moves: List[Tuple[str, dict]]):\n",
    "        self.grouped_moves = grouped_moves\n",
    "\n",
    "    def __len__(self):\n",
    "        return len(self.grouped_moves)\n",
    "\n",
    "    def __getitem__(self, idx):\n",
    "        board_fen, piece_probs = self.grouped_moves[idx]\n",
    "        board = chess.Board(board_fen)\n",
    "        # feature is the board tensor\n",
    "        x = transform_board(board)\n",
    "        # label is one-hot encoded _from\n",
    "        y = piece_distribution_to_label(piece_probs)\n",
    "        # if play side is black, flip the board both two ways and the label\n",
    "        if board.turn == chess.BLACK:\n",
    "            x = x.flip(1).flip(2)\n",
    "            y = y.flip(0)\n",
    "\n",
    "        return x, y"
   ]
  },
  {
   "cell_type": "code",
   "execution_count": 12,
   "metadata": {},
   "outputs": [],
   "source": [
    "class ChessDataset(Dataset):\n",
    "    def __init__(self, moves: List[Tuple[str, str, str, str]], mask_move: bool = False):\n",
    "        self.moves = moves  # (from, to, piece, board_fen)\n",
    "        self.mask_move = mask_move\n",
    "\n",
    "    def __len__(self):\n",
    "        return len(self.moves)\n",
    "\n",
    "    def __getitem__(self, idx):\n",
    "        _from, _to, piece, board_fen = self.moves[idx]\n",
    "        board = chess.Board(board_fen)\n",
    "        x = (\n",
    "            transform_board(board)\n",
    "            if not self.mask_move\n",
    "            else transform_board(board, mask_loc=_from)\n",
    "        )\n",
    "        # label is one-hot encoded _from\n",
    "        y = torch.zeros(64)\n",
    "        # convert _to name to index, igoring promotion(last letter)\n",
    "        _to = chess.parse_square(_to[:2])\n",
    "        y[_to] = 1\n",
    "        # if play side is black, flip the board both two ways and the label\n",
    "        if board.turn == chess.BLACK:\n",
    "            x = x.flip(1).flip(2)\n",
    "            y = y.flip(0)\n",
    "\n",
    "        return x, y"
   ]
  },
  {
   "cell_type": "markdown",
   "metadata": {},
   "source": [
    "# Training"
   ]
  },
  {
   "cell_type": "code",
   "execution_count": 13,
   "metadata": {},
   "outputs": [],
   "source": [
    "def training(model, dataloader, criterion, optimizer, num_epochs=10):\n",
    "    model.train()\n",
    "    train_loss = []\n",
    "    for epoch in range(num_epochs):\n",
    "        running_loss = 0.0\n",
    "        for i, data in enumerate(dataloader):\n",
    "            inputs, labels = data\n",
    "            inputs, labels = inputs.to(device), labels.to(device)\n",
    "\n",
    "            optimizer.zero_grad()\n",
    "\n",
    "            outputs = model(inputs)\n",
    "            loss = criterion(outputs, labels)\n",
    "            loss.backward()\n",
    "            optimizer.step()\n",
    "            running_loss += loss.item()\n",
    "            if i % 100 == 99:\n",
    "                print(\n",
    "                    f\"epoch {epoch+1}/{num_epochs} | batch {i+1} | loss: {running_loss / 100}\"\n",
    "                )\n",
    "                train_loss.append(running_loss / 100)\n",
    "                running_loss = 0.0\n",
    "        clear_output(wait=True)\n",
    "    return train_loss"
   ]
  },
  {
   "cell_type": "markdown",
   "metadata": {},
   "source": [
    "# Training piece selection"
   ]
  },
  {
   "cell_type": "markdown",
   "metadata": {},
   "source": [
    "## Model + training"
   ]
  },
  {
   "cell_type": "code",
   "execution_count": null,
   "metadata": {},
   "outputs": [],
   "source": [
    "model = ChessNet(\n",
    "    num_classes=64,\n",
    "    num_channels=6,\n",
    "    activation=nn.LeakyReLU(inplace=True),\n",
    ").to(device)"
   ]
  },
  {
   "cell_type": "code",
   "execution_count": null,
   "metadata": {},
   "outputs": [],
   "source": [
    "# load model\n",
    "# model.load_state_dict(torch.load(\"piece_grouped_sel_ce_20epc.pth\"))"
   ]
  },
  {
   "cell_type": "code",
   "execution_count": null,
   "metadata": {},
   "outputs": [],
   "source": [
    "# summary(model, (6, 8, 8), batch_size=1)"
   ]
  },
  {
   "cell_type": "code",
   "execution_count": null,
   "metadata": {},
   "outputs": [
    {
     "data": {
      "text/plain": [
       "(159228, 40500)"
      ]
     },
     "metadata": {},
     "output_type": "display_data"
    }
   ],
   "source": [
    "grouped_train_samples = group_board(train_below_1450)\n",
    "grouped_test_samples = group_board(test_below_1450)\n",
    "\n",
    "len(grouped_train_samples), len(grouped_test_samples)"
   ]
  },
  {
   "cell_type": "code",
   "execution_count": null,
   "metadata": {},
   "outputs": [
    {
     "data": {
      "text/plain": [
       "(torch.Size([6, 8, 8]), torch.Size([64]), 159228)"
      ]
     },
     "metadata": {},
     "output_type": "display_data"
    }
   ],
   "source": [
    "piece_sel_ds = ChessGroupedDataset(grouped_train_samples)\n",
    "piece_sel_dl = DataLoader(piece_sel_ds, batch_size=64, shuffle=True)\n",
    "\n",
    "# sample from the dataset\n",
    "x, y = piece_sel_ds[0]\n",
    "\n",
    "x.shape, y.shape, len(piece_sel_ds)"
   ]
  },
  {
   "cell_type": "code",
   "execution_count": 19,
   "metadata": {},
   "outputs": [
    {
     "name": "stdout",
     "output_type": "stream",
     "text": [
      "Epoch 10/10\n",
      "----------\n",
      "batch 0 loss: 4.106743812561035\n",
      "batch 200 loss: 4.054723739624023\n",
      "batch 400 loss: 4.028746128082275\n",
      "batch 600 loss: 4.072626113891602\n",
      "batch 800 loss: 4.060213088989258\n",
      "batch 1000 loss: 4.090933322906494\n",
      "batch 1200 loss: 4.06001091003418\n",
      "batch 1400 loss: 4.10654354095459\n",
      "batch 1600 loss: 4.091612815856934\n",
      "batch 1800 loss: 4.138007164001465\n",
      "batch 2000 loss: 4.028840065002441\n",
      "batch 2200 loss: 4.063558578491211\n",
      "batch 2400 loss: 4.138141632080078\n",
      "__Epoch loss: 4.079843078491389\n"
     ]
    }
   ],
   "source": [
    "EPOCHS = 10\n",
    "criterion = nn.CrossEntropyLoss()\n",
    "optimizer = torch.optim.Adam(model.parameters(), lr=0.001)\n",
    "\n",
    "loss_history = training(model, piece_sel_dl, criterion, optimizer, num_epochs=EPOCHS)"
   ]
  },
  {
   "cell_type": "code",
   "execution_count": 20,
   "metadata": {},
   "outputs": [],
   "source": [
    "# save the model\n",
    "torch.save(model.state_dict(), \"grouped_ce_10epc_lrelu_0.01.pth\")"
   ]
  },
  {
   "cell_type": "code",
   "execution_count": 21,
   "metadata": {},
   "outputs": [
    {
     "data": {
      "image/png": "[encoded data removed]",
      "text/plain": [
       "<Figure size 640x480 with 1 Axes>"
      ]
     },
     "metadata": {},
     "output_type": "display_data"
    }
   ],
   "source": [
    "# plot loss history\n",
    "plt.plot(loss_history)\n",
    "plt.xlabel(\"Epoch\")\n",
    "plt.ylabel(\"Loss\")\n",
    "plt.title(\"Piece Selection Model Loss\")\n",
    "plt.show()"
   ]
  },
  {
   "cell_type": "markdown",
   "metadata": {},
   "source": [
    "## Evaluation"
   ]
  },
  {
   "cell_type": "code",
   "execution_count": 88,
   "metadata": {},
   "outputs": [],
   "source": [
    "test_samples_ds = ChessDataset(test_above_1800)\n",
    "test_samples_dl = DataLoader(test_samples_ds, batch_size=64, shuffle=False)\n",
    "\n",
    "test_piece_sel_ds = ChessGroupedDataset(grouped_test_samples)\n",
    "test_piece_sel_dl = DataLoader(test_piece_sel_ds, batch_size=64, shuffle=False)"
   ]
  },
  {
   "cell_type": "code",
   "execution_count": 89,
   "metadata": {},
   "outputs": [
    {
     "name": "stderr",
     "output_type": "stream",
     "text": [
      "c:\\Users\\Hoang\\AppData\\Local\\Programs\\Python\\Python311\\Lib\\site-packages\\torch\\nn\\functional.py:2943: UserWarning: reduction: 'mean' divides the total loss by both the batch size and the support size.'batchmean' divides only by the batch size, and aligns with the KL div math definition.'mean' will be changed to behave the same as 'batchmean' in the next major release.\n",
      "  warnings.warn(\n"
     ]
    },
    {
     "name": "stdout",
     "output_type": "stream",
     "text": [
      "KL Divergence: 0.0019808672005763076\n"
     ]
    }
   ],
   "source": [
    "# evaluate KL divergence between the predicted distribution and the true distribution\n",
    "# KL divergence is a measure of how one probability distribution diverges from a second, expected probability distribution\n",
    "# KL divergence is 0 if the two distributions are identical\n",
    "model.eval()\n",
    "kl_divergence = 0.0\n",
    "for idx, (x, y) in enumerate(test_piece_sel_dl):\n",
    "    x, y = x.to(device), y.to(device)\n",
    "    output = model(x)\n",
    "    kl_divergence += nn.KLDivLoss()(output, y).item()\n",
    "\n",
    "kl_divergence /= len(test_piece_sel_dl)\n",
    "print(f\"KL Divergence: {kl_divergence}\")"
   ]
  },
  {
   "cell_type": "code",
   "execution_count": 20,
   "metadata": {},
   "outputs": [],
   "source": [
    "# get the move from argmax of the predicted distribution\n",
    "def argmax_move(batch: torch.Tensor):\n",
    "    argmax_idx = torch.argmax(batch, dim=1)\n",
    "    pred_y = torch.zeros_like(batch)\n",
    "    pred_y[torch.arange(batch.shape[0]), argmax_idx] = 1\n",
    "\n",
    "    return pred_y.to(device)"
   ]
  },
  {
   "cell_type": "code",
   "execution_count": 91,
   "metadata": {},
   "outputs": [
    {
     "name": "stdout",
     "output_type": "stream",
     "text": [
      "Accuracy: 20.174%\n"
     ]
    }
   ],
   "source": [
    "model.eval()\n",
    "total = 0\n",
    "correct = 0\n",
    "for idx, (x, y) in enumerate(test_samples_dl):\n",
    "    x, y = x.to(device), y.to(device)\n",
    "    output = model(x)\n",
    "    output = torch.softmax(output, dim=1)\n",
    "    pred_y = argmax_move(output)\n",
    "    correct += (pred_y == y).all(dim=1).sum().item()\n",
    "    total += y.size(0)\n",
    "\n",
    "print(f\"Accuracy argmax move: {(correct/total) * 100:.3f}%\")"
   ]
  },
  {
   "cell_type": "markdown",
   "metadata": {},
   "source": [
    "# Training move selection"
   ]
  },
  {
   "cell_type": "markdown",
   "metadata": {},
   "source": [
    "## Model + training"
   ]
  },
  {
   "cell_type": "code",
   "execution_count": 14,
   "metadata": {},
   "outputs": [],
   "source": [
    "piece_type = [\"p\", \"n\", \"b\", \"r\", \"q\", \"k\"]  # pawn, knight, bishop, rook, queen, king"
   ]
  },
  {
   "cell_type": "code",
   "execution_count": 15,
   "metadata": {},
   "outputs": [],
   "source": [
    "src_sample = train_above_1800\n",
    "move_sel_sample = {piece: filter_by_piece(src_sample, piece) for piece in piece_type}"
   ]
  },
  {
   "cell_type": "code",
   "execution_count": 16,
   "metadata": {},
   "outputs": [
    {
     "data": {
      "image/png": "[encoded data removed]",
      "text/plain": [
       "<Figure size 500x300 with 1 Axes>"
      ]
     },
     "metadata": {},
     "output_type": "display_data"
    }
   ],
   "source": [
    "# plot the size of each piece type\n",
    "plt.figure(figsize=(5, 3))\n",
    "plt.bar(\n",
    "    range(len(move_sel_sample)), [len(move_sel_sample[piece]) for piece in piece_type]\n",
    ")\n",
    "plt.xticks(range(len(move_sel_sample)), piece_type)\n",
    "plt.xlabel(\"Piece type\")\n",
    "plt.ylabel(\"# samples\")\n",
    "plt.title(f\"Number of samples for each piece type, total: {len(src_sample)}\")\n",
    "plt.show()"
   ]
  },
  {
   "cell_type": "markdown",
   "metadata": {},
   "source": [
    "## Training on single piece\n"
   ]
  },
  {
   "cell_type": "code",
   "execution_count": 61,
   "metadata": {},
   "outputs": [],
   "source": [
    "piece = \"q\" # queen\n",
    "lr = 0.003"
   ]
  },
  {
   "cell_type": "code",
   "execution_count": 62,
   "metadata": {},
   "outputs": [],
   "source": [
    "model = ChessNet(\n",
    "    num_classes=64,\n",
    "    num_channels=7,\n",
    "    activation=nn.LeakyReLU(inplace=True, negative_slope=0.05),\n",
    ").to(device)"
   ]
  },
  {
   "cell_type": "code",
   "execution_count": 63,
   "metadata": {},
   "outputs": [
    {
     "data": {
      "text/plain": [
       "(torch.Size([7, 8, 8]), torch.Size([64]), 102988)"
      ]
     },
     "execution_count": 63,
     "metadata": {},
     "output_type": "execute_result"
    }
   ],
   "source": [
    "samples = filter_by_piece(src_sample, piece)\n",
    "ds = ChessDataset(samples, mask_move=True)\n",
    "dl = torch.utils.data.DataLoader(ds, batch_size=128, shuffle=True)\n",
    "\n",
    "# sample from the dataset\n",
    "x, y = ds[0]\n",
    "x.shape, y.shape, len(ds)"
   ]
  },
  {
   "cell_type": "code",
   "execution_count": 64,
   "metadata": {},
   "outputs": [
    {
     "name": "stdout",
     "output_type": "stream",
     "text": [
      "epoch 10/10 | batch 100 | loss: 2.1921289491653444\n",
      "epoch 10/10 | batch 200 | loss: 2.1838670206069946\n",
      "epoch 10/10 | batch 300 | loss: 2.1769452548027037\n",
      "epoch 10/10 | batch 400 | loss: 2.187224372625351\n",
      "epoch 10/10 | batch 500 | loss: 2.2199351239204406\n",
      "epoch 10/10 | batch 600 | loss: 2.226153198480606\n",
      "epoch 10/10 | batch 700 | loss: 2.24422945022583\n",
      "epoch 10/10 | batch 800 | loss: 2.237246549129486\n"
     ]
    }
   ],
   "source": [
    "criterion = nn.CrossEntropyLoss()\n",
    "optimizer = torch.optim.Adam(model.parameters(), lr=lr)\n",
    "\n",
    "loss_history = training(model, dl, criterion, optimizer, num_epochs=10)"
   ]
  },
  {
   "cell_type": "markdown",
   "metadata": {},
   "source": [
    "## Evaluation"
   ]
  },
  {
   "cell_type": "code",
   "execution_count": 65,
   "metadata": {},
   "outputs": [],
   "source": [
    "# save the model\n",
    "torch.save(model.state_dict(), f\"move_{piece}_leakyrelu0.05_epc10_batsize128_lr{lr}.pth\")"
   ]
  },
  {
   "cell_type": "code",
   "execution_count": 66,
   "metadata": {},
   "outputs": [
    {
     "data": {
      "text/plain": [
       "[<matplotlib.lines.Line2D at 0x2787bdc1c50>]"
      ]
     },
     "execution_count": 66,
     "metadata": {},
     "output_type": "execute_result"
    },
    {
     "data": {
      "image/png": "[encoded data removed]",
      "text/plain": [
       "<Figure size 640x480 with 1 Axes>"
      ]
     },
     "metadata": {},
     "output_type": "display_data"
    }
   ],
   "source": [
    "# plot loss history\n",
    "plt.plot(loss_history)"
   ]
  },
  {
   "cell_type": "code",
   "execution_count": 68,
   "metadata": {},
   "outputs": [
    {
     "data": {
      "text/plain": [
       "<All keys matched successfully>"
      ]
     },
     "execution_count": 68,
     "metadata": {},
     "output_type": "execute_result"
    }
   ],
   "source": [
    "# load the model\n",
    "piece = \"q\"\n",
    "model = ChessNet(\n",
    "    num_classes=64,\n",
    "    num_channels=7,\n",
    "    activation=nn.LeakyReLU(inplace=True, negative_slope=0.05),\n",
    ").to(device)\n",
    "\n",
    "model.load_state_dict(\n",
    "    torch.load(\n",
    "        f\"move_{piece}_leakyrelu0.05_epc10_batsize128.pth\"\n",
    "    )\n",
    ")"
   ]
  },
  {
   "cell_type": "code",
   "execution_count": 69,
   "metadata": {},
   "outputs": [],
   "source": [
    "test_samples = filter_by_piece(test_above_1800, piece)\n",
    "\n",
    "test_ds = ChessDataset(test_samples, mask_move=True)\n",
    "test_dl = DataLoader(test_ds, batch_size=128, shuffle=False)"
   ]
  },
  {
   "cell_type": "code",
   "execution_count": 70,
   "metadata": {},
   "outputs": [
    {
     "name": "stderr",
     "output_type": "stream",
     "text": [
      "100%|██████████| 202/202 [00:07<00:00, 27.39it/s]"
     ]
    },
    {
     "name": "stdout",
     "output_type": "stream",
     "text": [
      "Accuracy argmax move: 43.269%\n"
     ]
    },
    {
     "name": "stderr",
     "output_type": "stream",
     "text": [
      "\n"
     ]
    }
   ],
   "source": [
    "model.eval()\n",
    "total = 0\n",
    "correct = 0\n",
    "\n",
    "for idx, (x, y) in enumerate(tqdm(test_dl)):\n",
    "    x, y = x.to(device), y.to(device)\n",
    "    output = model(x)\n",
    "    output = torch.softmax(output, dim=1)\n",
    "    pred_y = argmax_move(output)\n",
    "    correct += (pred_y == y).all(dim=1).sum().item()\n",
    "    total += y.size(0)\n",
    "\n",
    "print(f\"Accuracy argmax move: {(correct/total) * 100:.3f}%\")"
   ]
  },
  {
   "cell_type": "markdown",
   "metadata": {},
   "source": [
    "# Results\n",
    "\n",
    "Piece selection(70 epochs, batch size 256): 43.996%\n",
    "\n",
    "Move selection(10 epochs, batch size 128)\n",
    "* Pawn: 89.047%\n",
    "* Knight: 73% \n",
    "* Rook: 56.261%\n",
    "* Bishop: 66.328%\n",
    "* Queen: 43.269% \n",
    "* King: 68.859%\n"
   ]
  }
 ],
 "metadata": {
  "kernelspec": {
   "display_name": "Python 3",
   "language": "python",
   "name": "python3"
  },
  "language_info": {
   "codemirror_mode": {
    "name": "ipython",
    "version": 3
   },
   "file_extension": ".py",
   "mimetype": "text/x-python",
   "name": "python",
   "nbconvert_exporter": "python",
   "pygments_lexer": "ipython3",
   "version": "3.11.6"
  }
 },
 "nbformat": 4,
 "nbformat_minor": 2
}
