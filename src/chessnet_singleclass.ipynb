{
 "cells": [
  {
   "cell_type": "markdown",
   "metadata": {},
   "source": [
    "# Import"
   ]
  },
  {
   "cell_type": "code",
   "execution_count": 1,
   "metadata": {},
   "outputs": [],
   "source": [
    "from model import ChessNet\n",
    "import torch\n",
    "import torch.nn as nn\n",
    "from torchsummary import summary\n",
    "import pandas as pd\n",
    "from utils import read_pgn\n",
    "import chess\n",
    "from IPython.display import display, clear_output\n",
    "from time import sleep, time\n",
    "from torch.utils.data import DataLoader, Dataset\n",
    "from typing import List, Tuple\n",
    "from tqdm import tqdm\n",
    "import matplotlib.pyplot as plt\n",
    "from sklearn.model_selection import train_test_split\n",
    "import pickle\n",
    "import os\n",
    "import gc"
   ]
  },
  {
   "cell_type": "code",
   "execution_count": 2,
   "metadata": {},
   "outputs": [],
   "source": [
    "device = torch.device(\"cuda\" if torch.cuda.is_available() else \"cpu\")"
   ]
  },
  {
   "cell_type": "markdown",
   "metadata": {},
   "source": [
    "# Data preprocessing"
   ]
  },
  {
   "cell_type": "code",
   "execution_count": 3,
   "metadata": {},
   "outputs": [],
   "source": [
    "df1 = pd.read_csv(\"../games_metadata_profile.csv\")\n",
    "df2 = pd.read_csv(\"../games_metadata_profile_2024_01.csv\")\n",
    "\n",
    "\n",
    "def format_game_mode(x):\n",
    "    if \"Classical\" in x:\n",
    "        return \"Classical game\"\n",
    "    elif \"Bullet\" in x:\n",
    "        return \"Bullet game\"\n",
    "    elif \"Blitz\" in x:\n",
    "        return \"Blitz game\"\n",
    "    elif \"UltraBullet\" in x:\n",
    "        return \"UltraBullet game\"\n",
    "    elif \"Rapid\" in x:\n",
    "        return \"Rapid game\"\n",
    "    elif \"Correspondence\" in x:\n",
    "        return \"Correspondence game\"\n",
    "    else:\n",
    "        return x\n",
    "\n",
    "\n",
    "df = pd.concat([df1, df2], ignore_index=True)\n",
    "\n",
    "df[\"Mode\"] = df[\"Event\"].apply(format_game_mode)\n",
    "\n",
    "df = df[df[\"Mode\"] == \"Blitz game\"]"
   ]
  },
  {
   "cell_type": "code",
   "execution_count": 4,
   "metadata": {},
   "outputs": [
    {
     "name": "stdout",
     "output_type": "stream",
     "text": [
      "# games with average elo below 1450: (30057, 34)\n",
      "# games with average elo between 1450 and 1800: (32038, 34)\n",
      "# games with average elo above 1800: (31863, 34)\n"
     ]
    },
    {
     "data": {
      "text/plain": [
       "0"
      ]
     },
     "execution_count": 4,
     "metadata": {},
     "output_type": "execute_result"
    }
   ],
   "source": [
    "df_elo_below_1450 = df[(df[\"WhiteElo\"] + df[\"BlackElo\"]) / 2 <= 1450]\n",
    "df_elo_1450_to_1800 = df[\n",
    "    ((df[\"WhiteElo\"] + df[\"BlackElo\"]) / 2 > 1450)\n",
    "    & ((df[\"WhiteElo\"] + df[\"BlackElo\"]) / 2 <= 1800)\n",
    "]\n",
    "df_elo_above_1800 = df[(df[\"WhiteElo\"] + df[\"BlackElo\"]) / 2 > 1800]\n",
    "\n",
    "print(f\"# games with average elo below 1450: {df_elo_below_1450.shape}\")\n",
    "\n",
    "print(f\"# games with average elo between 1450 and 1800: {df_elo_1450_to_1800.shape}\")\n",
    "\n",
    "print(f\"# games with average elo above 1800: {df_elo_above_1800.shape}\")\n",
    "\n",
    "del df1, df2, df\n",
    "gc.collect()"
   ]
  },
  {
   "cell_type": "code",
   "execution_count": 5,
   "metadata": {},
   "outputs": [
    {
     "name": "stdout",
     "output_type": "stream",
     "text": [
      "# games with average elo below 1450: (15000, 34)\n",
      "# games with average elo between 1450 and 1800: (15000, 34)\n",
      "# games with average elo above 1800: (15000, 34)\n"
     ]
    }
   ],
   "source": [
    "cutoff = 15000  # number of games to use for each partition\n",
    "\n",
    "# set fixed seed for reproducibility\n",
    "random_state = 42\n",
    "\n",
    "df_elo_below_1450 = df_elo_below_1450.sample(cutoff, random_state=random_state)\n",
    "\n",
    "df_elo_1450_to_1800 = df_elo_1450_to_1800.sample(cutoff, random_state=random_state)\n",
    "\n",
    "df_elo_above_1800 = df_elo_above_1800.sample(cutoff, random_state=random_state)\n",
    "\n",
    "print(f\"# games with average elo below 1450: {df_elo_below_1450.shape}\")\n",
    "print(f\"# games with average elo between 1450 and 1800: {df_elo_1450_to_1800.shape}\")\n",
    "print(f\"# games with average elo above 1800: {df_elo_above_1800.shape}\")"
   ]
  },
  {
   "cell_type": "code",
   "execution_count": 6,
   "metadata": {},
   "outputs": [],
   "source": [
    "# move ==> (_from, _to, board)\n",
    "# board ==> 8x8 numpy array\n",
    "def process_game(moves: List[chess.Move]):\n",
    "    board = chess.Board()\n",
    "    samples = []\n",
    "    for move in moves:\n",
    "        _from, _to = move.from_square, move.to_square\n",
    "        parts = board.fen().split(\" \")\n",
    "        board_fen = parts[0]\n",
    "        turn = parts[1]\n",
    "        castling_rights = parts[2]\n",
    "        # from square index to algebraic notation\n",
    "        piece = board.piece_at(_from)\n",
    "        _from, _to = chess.SQUARE_NAMES[_from], chess.SQUARE_NAMES[_to]\n",
    "        samples.append(\n",
    "            (\n",
    "                str(_from),\n",
    "                str(_to),\n",
    "                str(piece),\n",
    "                str(turn),\n",
    "                str(castling_rights),\n",
    "                board_fen,\n",
    "            )\n",
    "        )\n",
    "        board.push(move)\n",
    "\n",
    "    return samples"
   ]
  },
  {
   "cell_type": "code",
   "execution_count": 7,
   "metadata": {},
   "outputs": [],
   "source": [
    "def pgns_to_samples(\n",
    "    game_pgns: List[str] = None,\n",
    "    save_dir: str = None,\n",
    "    suffix: str = \"\",\n",
    "    write_to_disk: bool = True,\n",
    "):\n",
    "    assert (\n",
    "        game_pgns is not None or save_dir is not None\n",
    "    ), \"game_pgns OR save_dir must be provided\"\n",
    "\n",
    "    is_train_saved = False\n",
    "    is_test_saved = False\n",
    "    train_samples = []\n",
    "    test_samples = []\n",
    "    if save_dir:\n",
    "        if f\"train_{suffix}.pkl\" in os.listdir(save_dir):\n",
    "            is_train_saved = True\n",
    "            with open(f\"{save_dir}/train_{suffix}.pkl\", \"rb\") as f:\n",
    "                train_samples = pickle.load(f)\n",
    "            print(f\"Loading train samples from disk size: {len(train_samples)}\")\n",
    "\n",
    "        if f\"test_{suffix}.pkl\" in os.listdir(save_dir):\n",
    "            is_test_saved = True\n",
    "            with open(f\"{save_dir}/test_{suffix}.pkl\", \"rb\") as f:\n",
    "                test_samples = pickle.load(f)\n",
    "            print(f\"Loading test samples from disk size: {len(test_samples)}\")\n",
    "\n",
    "    if game_pgns is not None:\n",
    "        train_pgn, test_pgn = train_test_split(\n",
    "            game_pgns, test_size=0.2, random_state=42\n",
    "        )\n",
    "\n",
    "        if not is_train_saved:\n",
    "            print(\"Processing train samples\")\n",
    "            for game_pgn in tqdm(train_pgn):\n",
    "                game_moves = read_pgn(game_pgn)\n",
    "                train_samples.extend(process_game(game_moves))\n",
    "            train_samples = list(set(train_samples))\n",
    "            if write_to_disk:\n",
    "                with open(f\"{save_dir}/train_{suffix}.pkl\", \"wb\") as f:\n",
    "                    pickle.dump(train_samples, f)\n",
    "                    print(f\"Train samples saved to {save_dir}/train_{suffix}.pkl\")\n",
    "\n",
    "        if not is_test_saved:\n",
    "            print(\"Processing test samples\")\n",
    "            for game_pgn in tqdm(test_pgn):\n",
    "                game_moves = read_pgn(game_pgn)\n",
    "                test_samples.extend(process_game(game_moves))\n",
    "            test_samples = list(set(test_samples))\n",
    "            if write_to_disk:\n",
    "                with open(f\"{save_dir}/test_{suffix}.pkl\", \"wb\") as f:\n",
    "                    pickle.dump(test_samples, f)\n",
    "                    print(f\"Test samples saved to {save_dir}/test_{suffix}.pkl\")\n",
    "    return train_samples, test_samples"
   ]
  },
  {
   "cell_type": "code",
   "execution_count": 8,
   "metadata": {},
   "outputs": [],
   "source": [
    "game_below_1450 = df_elo_below_1450[\"Moves\"].values\n",
    "game_1450_to_1800 = df_elo_1450_to_1800[\"Moves\"].values\n",
    "game_above_1800 = df_elo_above_1800[\"Moves\"].values"
   ]
  },
  {
   "cell_type": "code",
   "execution_count": 9,
   "metadata": {},
   "outputs": [
    {
     "name": "stdout",
     "output_type": "stream",
     "text": [
      "Loading train samples from disk size: 658096\n",
      "Loading test samples from disk size: 167298\n",
      "Loading train samples from disk size: 712163\n",
      "Loading test samples from disk size: 181459\n",
      "Loading train samples from disk size: 773308\n",
      "Loading test samples from disk size: 198207\n"
     ]
    }
   ],
   "source": [
    "save_dir = \"data\"\n",
    "train_below_1450, test_below_1450 = pgns_to_samples(\n",
    "    save_dir=save_dir,\n",
    "    suffix=\"below_1450_15kCUTOFF\",\n",
    "    # write_to_disk=False,\n",
    "    game_pgns=game_below_1450,\n",
    ")\n",
    "train_1450_to_1800, test_1450_to_1800 = pgns_to_samples(\n",
    "    save_dir=save_dir,\n",
    "    suffix=\"1450_to_1800_15kCUTOFF\",\n",
    "    # write_to_disk=False,\n",
    "    game_pgns=game_1450_to_1800,\n",
    ")\n",
    "train_above_1800, test_above_1800 = pgns_to_samples(\n",
    "    save_dir=save_dir,\n",
    "    suffix=\"above_1800_15kCUTOFF\",\n",
    "    # write_to_disk=False,\n",
    "    game_pgns=game_above_1800,\n",
    ")"
   ]
  },
  {
   "cell_type": "code",
   "execution_count": 10,
   "metadata": {},
   "outputs": [],
   "source": [
    "def transform_board(\n",
    "    board: chess.Board, mask_loc: str = None, add_legal_moves: bool = False\n",
    ") -> torch.Tensor:\n",
    "    piece_map = {\n",
    "        \"p\": 1,\n",
    "        \"n\": 2,\n",
    "        \"b\": 3,\n",
    "        \"r\": 4,\n",
    "        \"q\": 5,\n",
    "        \"k\": 6,\n",
    "        \"P\": 7,\n",
    "        \"N\": 8,\n",
    "        \"B\": 9,\n",
    "        \"R\": 10,\n",
    "        \"Q\": 11,\n",
    "        \"K\": 12,\n",
    "    }\n",
    "    board_tensor = torch.zeros(12, 8, 8)\n",
    "    for i in range(8):\n",
    "        for j in range(8):\n",
    "            piece = board.piece_at(chess.square(i, j))\n",
    "            if piece is not None:\n",
    "                piece_symbol = piece.symbol()\n",
    "                board_tensor[piece_map[piece_symbol] - 1, i, j] = 1\n",
    "\n",
    "    if add_legal_moves:  # add new channels of legal moves to the board tensor\n",
    "        legal_moves = board.legal_moves\n",
    "        legal_move_channel = torch.zeros(1, 8, 8)\n",
    "        for move in legal_moves:\n",
    "            to_square = move.to_square\n",
    "            legal_move_channel[0, to_square % 8, to_square // 8] = 1\n",
    "            # check if the move is a capture\n",
    "            if board.is_capture(move):\n",
    "                legal_move_channel[0, to_square % 8, to_square // 8] *= 2\n",
    "        board_tensor = torch.cat((board_tensor, legal_move_channel), dim=0)\n",
    "\n",
    "    if mask_loc is not None:  # add new channels of mask to the board tensor\n",
    "        mask_tensor = torch.zeros(1, 8, 8)\n",
    "        # convert mask_loc san to square index\n",
    "        mask_square = chess.parse_square(mask_loc)\n",
    "        piece = board.piece_at(mask_square)\n",
    "        if piece is None:\n",
    "            raise ValueError(f\"no piece at mask square {mask_loc}\")\n",
    "        mask_tensor[0, mask_square % 8, mask_square // 8] = 1\n",
    "        board_tensor = torch.cat((board_tensor, mask_tensor), dim=0)\n",
    "\n",
    "    return board_tensor"
   ]
  },
  {
   "cell_type": "code",
   "execution_count": 11,
   "metadata": {},
   "outputs": [],
   "source": [
    "def group_board(samples):\n",
    "    board_grouped = {}\n",
    "\n",
    "    # count the number of moves for each piece in each board state\n",
    "    for sample in samples:\n",
    "        _from, _to, piece, board_fen = sample\n",
    "        board_position = board_fen.split(\" \")[0]\n",
    "\n",
    "        if board_position not in board_grouped:\n",
    "\n",
    "            board_grouped[board_position] = {\"total\": 0}\n",
    "\n",
    "\n",
    "        for idx, subkey in enumerate(\n",
    "            [\n",
    "                _from\n",
    "                #   , _to\n",
    "            ]\n",
    "        ):\n",
    "            # if idx == 0: # specicial prefix to denote from or to\n",
    "            #     subkey = f\"f{subkey}\"\n",
    "            # else:\n",
    "            #     subkey = f\"t{subkey}\"\n",
    "            if subkey not in board_grouped[board_position]:\n",
    "                board_grouped[board_position][subkey] = 0\n",
    "            board_grouped[board_position][subkey] += 1\n",
    "\n",
    "\n",
    "        board_grouped[board_position][\"total\"] += 1\n",
    "\n",
    "    # convert the count to probability distribution\n",
    "    for board_position in board_grouped:\n",
    "\n",
    "        total = board_grouped[board_position][\"total\"]\n",
    "\n",
    "        for subkey in board_grouped[board_position]:\n",
    "            if subkey == \"total\":\n",
    "                continue\n",
    "            board_grouped[board_position][subkey] /= total\n",
    "\n",
    "        del board_grouped[board_position][\"total\"]\n",
    "\n",
    "    # dict to list\n",
    "\n",
    "    board_grouped = list(board_grouped.items())\n",
    "    return board_grouped"
   ]
  },
  {
   "cell_type": "code",
   "execution_count": 12,
   "metadata": {},
   "outputs": [],
   "source": [
    "# transform piece distribution to tensor label\n",
    "# piece_distribution = {'e1': 0.5, 'd2': 0.2, ...}\n",
    "# piece_distribution ==> tensor(64)\n",
    "def piece_distribution_to_label(piece_distribution):\n",
    "    label = torch.zeros(64)\n",
    "\n",
    "    for i, piece in enumerate(piece_distribution):\n",
    "        idx = chess.parse_square(piece)\n",
    "        label[idx] = piece_distribution[piece]\n",
    "\n",
    "    return label"
   ]
  },
  {
   "cell_type": "code",
   "execution_count": 13,
   "metadata": {},
   "outputs": [],
   "source": [
    "def filter_by_piece(samples: List[Tuple[str, str, str, str]], piece: str):\n",
    "    return list(filter(lambda x: x[2].lower() == piece, samples))"
   ]
  },
  {
   "cell_type": "markdown",
   "metadata": {},
   "source": [
    "# Dataset"
   ]
  },
  {
   "cell_type": "code",
   "execution_count": 14,
   "metadata": {},
   "outputs": [],
   "source": [
    "class ChessGroupedDataset(Dataset):\n",
    "    def __init__(self, grouped_moves: List[Tuple[str, dict]]):\n",
    "        self.grouped_moves = grouped_moves\n",
    "\n",
    "    def __len__(self):\n",
    "        return len(self.grouped_moves)\n",
    "\n",
    "    def __getitem__(self, idx):\n",
    "        board_fen, piece_probs = self.grouped_moves[idx]\n",
    "        board = chess.Board(board_fen)\n",
    "        # feature is the board tensor\n",
    "        x = transform_board(board)\n",
    "        # label is one-hot encoded _from\n",
    "        y = piece_distribution_to_label(piece_probs)\n",
    "        # if play side is black, flip the board both two ways and the label\n",
    "        if board.turn == chess.BLACK:\n",
    "            x = x.flip(1).flip(2)\n",
    "            y = y.flip(0)\n",
    "\n",
    "        return x, y"
   ]
  },
  {
   "cell_type": "code",
   "execution_count": 15,
   "metadata": {},
   "outputs": [],
   "source": [
    "class ChessDataset(Dataset):\n",
    "    def __init__(\n",
    "        self,\n",
    "        moves: List[Tuple[str, str, str, str]],\n",
    "        mask_move: bool = False,\n",
    "        add_legal_moves: bool = False,\n",
    "    ):\n",
    "        self.moves = moves  # (from, to, piece, turn, castling_rights, board_fen)\n",
    "        self.mask_move = mask_move\n",
    "        self.add_legal_moves = add_legal_moves  # encode legal moves into board tensor\n",
    "\n",
    "    def __len__(self):\n",
    "        return len(self.moves)\n",
    "\n",
    "    def __getitem__(self, idx):\n",
    "        _from, _to, piece, turn, castling_rights, board_fen = self.moves[idx]\n",
    "        fen = board_fen + \" \" + turn + \" \" + castling_rights + \" - 0 1\"\n",
    "        board = chess.Board(fen)\n",
    "        # feature is the board tensor\n",
    "        x = transform_board(\n",
    "            board,\n",
    "            mask_loc=_from if self.mask_move else None,\n",
    "            add_legal_moves=self.add_legal_moves,\n",
    "        )\n",
    "        # label is one-hot encoded _from\n",
    "        y = torch.zeros(64)\n",
    "        # convert _to name to index, igoring promotion(last letter)\n",
    "        _to = chess.parse_square(_to[:2])\n",
    "        y[_to] = 1\n",
    "        # if play side is black, flip the board both two ways and the label\n",
    "        if board.turn == chess.BLACK:\n",
    "            x = x.flip(1).flip(2)\n",
    "            y = y.flip(0)\n",
    "\n",
    "        return x, y"
   ]
  },
  {
   "cell_type": "markdown",
   "metadata": {},
   "source": [
    "# Training"
   ]
  },
  {
   "cell_type": "code",
   "execution_count": 16,
   "metadata": {},
   "outputs": [],
   "source": [
    "def training(model, dataloader, criterion, optimizer, device, num_epochs=10):\n",
    "    model.train()\n",
    "    train_loss = []\n",
    "    start = time()\n",
    "    for epoch in range(num_epochs):\n",
    "        running_loss = 0.0\n",
    "        for i, data in enumerate(dataloader):\n",
    "            inputs, labels = data\n",
    "            inputs, labels = inputs.to(device), labels.to(device)\n",
    "\n",
    "            optimizer.zero_grad()\n",
    "\n",
    "            outputs = model(inputs)\n",
    "            loss = criterion(outputs, labels)\n",
    "            loss.backward()\n",
    "            optimizer.step()\n",
    "            running_loss += loss.item()\n",
    "            if i % 100 == 99:\n",
    "                elapsed = time() - start\n",
    "                # number of batches per epoch\n",
    "\n",
    "                print(\n",
    "                    f\"epoch {epoch+1}/{num_epochs} | batch {i+1}/{len(dataloader)} | loss: {running_loss / 100} | elap: {elapsed:.2f}s\"\n",
    "                )\n",
    "                train_loss.append(running_loss / 100)\n",
    "                running_loss = 0.0\n",
    "    return train_loss"
   ]
  },
  {
   "cell_type": "code",
   "execution_count": 17,
   "metadata": {},
   "outputs": [],
   "source": [
    "# get the move from argmax of the predicted distribution\n",
    "def argmax_move(batch: torch.Tensor):\n",
    "    argmax_idx = torch.argmax(batch, dim=1)\n",
    "    pred_y = torch.zeros_like(batch)\n",
    "    pred_y[torch.arange(batch.shape[0]), argmax_idx] = 1\n",
    "\n",
    "    return pred_y.to(device)\n",
    "\n",
    "# sample the move from the predicted distribution\n",
    "def sample_move(batch: torch.Tensor):\n",
    "    pred_y = torch.zeros_like(batch)\n",
    "    for i in range(batch.shape[0]):\n",
    "        move = torch.multinomial(batch[i], 1)\n",
    "        pred_y[i, move] = 1\n",
    "\n",
    "    return pred_y.to(device)"
   ]
  },
  {
   "cell_type": "code",
   "execution_count": null,
   "metadata": {},
   "outputs": [],
   "source": []
  },
  {
   "cell_type": "markdown",
   "metadata": {},
   "source": [
    "# Training piece selection"
   ]
  },
  {
   "cell_type": "markdown",
   "metadata": {},
   "source": [
    "## Model + training"
   ]
  },
  {
   "cell_type": "code",
   "execution_count": null,
   "metadata": {},
   "outputs": [],
   "source": [
    "model = ChessNet(\n",
    "    num_classes=64,\n",
    "    num_channels=6,\n",
    "    activation=nn.LeakyReLU(inplace=True),\n",
    ").to(device)"
   ]
  },
  {
   "cell_type": "code",
   "execution_count": null,
   "metadata": {},
   "outputs": [],
   "source": [
    "# load model\n",
    "# model.load_state_dict(torch.load(\"piece_grouped_sel_ce_20epc.pth\"))"
   ]
  },
  {
   "cell_type": "code",
   "execution_count": null,
   "metadata": {},
   "outputs": [],
   "source": [
    "# summary(model, (6, 8, 8), batch_size=1)"
   ]
  },
  {
   "cell_type": "code",
   "execution_count": null,
   "metadata": {},
   "outputs": [
    {
     "data": {
      "text/plain": [
       "(159228, 40500)"
      ]
     },
     "metadata": {},
     "output_type": "display_data"
    }
   ],
   "source": [
    "grouped_train_samples = group_board(train_below_1450)\n",
    "grouped_test_samples = group_board(test_below_1450)\n",
    "\n",
    "len(grouped_train_samples), len(grouped_test_samples)"
   ]
  },
  {
   "cell_type": "code",
   "execution_count": null,
   "metadata": {},
   "outputs": [
    {
     "data": {
      "text/plain": [
       "(torch.Size([6, 8, 8]), torch.Size([64]), 159228)"
      ]
     },
     "metadata": {},
     "output_type": "display_data"
    }
   ],
   "source": [
    "piece_sel_ds = ChessGroupedDataset(grouped_train_samples)\n",
    "piece_sel_dl = DataLoader(piece_sel_ds, batch_size=64, shuffle=False)\n",
    "\n",
    "# sample from the dataset\n",
    "x, y = piece_sel_ds[0]\n",
    "\n",
    "x.shape, y.shape, len(piece_sel_ds)"
   ]
  },
  {
   "cell_type": "code",
   "execution_count": 19,
   "metadata": {},
   "outputs": [
    {
     "name": "stdout",
     "output_type": "stream",
     "text": [
      "Epoch 10/10\n",
      "----------\n",
      "batch 0 loss: 4.106743812561035\n",
      "batch 200 loss: 4.054723739624023\n",
      "batch 400 loss: 4.028746128082275\n",
      "batch 600 loss: 4.072626113891602\n",
      "batch 800 loss: 4.060213088989258\n",
      "batch 1000 loss: 4.090933322906494\n",
      "batch 1200 loss: 4.06001091003418\n",
      "batch 1400 loss: 4.10654354095459\n",
      "batch 1600 loss: 4.091612815856934\n",
      "batch 1800 loss: 4.138007164001465\n",
      "batch 2000 loss: 4.028840065002441\n",
      "batch 2200 loss: 4.063558578491211\n",
      "batch 2400 loss: 4.138141632080078\n",
      "__Epoch loss: 4.079843078491389\n"
     ]
    }
   ],
   "source": [
    "EPOCHS = 10\n",
    "criterion = nn.CrossEntropyLoss()\n",
    "optimizer = torch.optim.Adam(model.parameters(), lr=0.001)\n",
    "\n",
    "loss_history = training(model, piece_sel_dl, criterion, optimizer, num_epochs=EPOCHS)"
   ]
  },
  {
   "cell_type": "code",
   "execution_count": 20,
   "metadata": {},
   "outputs": [],
   "source": [
    "# save the model\n",
    "torch.save(model.state_dict(), \"grouped_ce_10epc_lrelu_0.01.pth\")"
   ]
  },
  {
   "cell_type": "code",
   "execution_count": 21,
   "metadata": {},
   "outputs": [
    {
     "data": {
      "image/png": "[encoded data removed]",
      "text/plain": [
       "<Figure size 640x480 with 1 Axes>"
      ]
     },
     "metadata": {},
     "output_type": "display_data"
    }
   ],
   "source": [
    "# plot loss history\n",
    "plt.plot(loss_history)\n",
    "plt.xlabel(\"Epoch\")\n",
    "plt.ylabel(\"Loss\")\n",
    "plt.title(\"Piece Selection Model Loss\")\n",
    "plt.show()"
   ]
  },
  {
   "cell_type": "markdown",
   "metadata": {},
   "source": [
    "## Evaluation"
   ]
  },
  {
   "cell_type": "code",
   "execution_count": 88,
   "metadata": {},
   "outputs": [],
   "source": [
    "test_samples_ds = ChessDataset(test_above_1800)\n",
    "test_samples_dl = DataLoader(test_samples_ds, batch_size=64, shuffle=False)\n",
    "\n",
    "test_piece_sel_ds = ChessGroupedDataset(grouped_test_samples)\n",
    "test_piece_sel_dl = DataLoader(test_piece_sel_ds, batch_size=64, shuffle=False)"
   ]
  },
  {
   "cell_type": "code",
   "execution_count": 91,
   "metadata": {},
   "outputs": [
    {
     "name": "stdout",
     "output_type": "stream",
     "text": [
      "Accuracy: 20.174%\n"
     ]
    }
   ],
   "source": [
    "model.eval()\n",
    "total = 0\n",
    "correct = 0\n",
    "for idx, (x, y) in enumerate(test_samples_dl):\n",
    "    x, y = x.to(device), y.to(device)\n",
    "    output = model(x)\n",
    "    output = torch.softmax(output, dim=1)\n",
    "    pred_y = argmax_move(output)\n",
    "    correct += (pred_y == y).all(dim=1).sum().item()\n",
    "    total += y.size(0)\n",
    "\n",
    "print(f\"Accuracy argmax move: {(correct/total) * 100:.3f}%\")"
   ]
  },
  {
   "cell_type": "markdown",
   "metadata": {},
   "source": [
    "# Training move selection"
   ]
  },
  {
   "cell_type": "markdown",
   "metadata": {},
   "source": [
    "## Model + training"
   ]
  },
  {
   "cell_type": "code",
   "execution_count": 18,
   "metadata": {},
   "outputs": [],
   "source": [
    "piece_type = [\"p\", \"n\", \"b\", \"r\", \"q\", \"k\"]  # pawn, knight, bishop, rook, queen, king"
   ]
  },
  {
   "cell_type": "code",
   "execution_count": 19,
   "metadata": {},
   "outputs": [],
   "source": [
    "src_sample = train_above_1800\n",
    "move_sel_sample = {piece: filter_by_piece(src_sample, piece) for piece in piece_type}"
   ]
  },
  {
   "cell_type": "code",
   "execution_count": 20,
   "metadata": {},
   "outputs": [
    {
     "data": {
      "image/png": "[encoded data removed]",
      "text/plain": [
       "<Figure size 500x300 with 1 Axes>"
      ]
     },
     "metadata": {},
     "output_type": "display_data"
    }
   ],
   "source": [
    "# plot the size of each piece type\n",
    "plt.figure(figsize=(5, 3))\n",
    "plt.bar(\n",
    "    range(len(move_sel_sample)), [len(move_sel_sample[piece]) for piece in piece_type]\n",
    ")\n",
    "plt.xticks(range(len(move_sel_sample)), piece_type)\n",
    "plt.xlabel(\"Piece type\")\n",
    "plt.ylabel(\"# samples\")\n",
    "plt.title(f\"Number of samples for each piece type, total: {len(src_sample)}\")\n",
    "plt.show()"
   ]
  },
  {
   "cell_type": "markdown",
   "metadata": {},
   "source": [
    "## Training on single piece\n"
   ]
  },
  {
   "cell_type": "code",
   "execution_count": 30,
   "metadata": {},
   "outputs": [],
   "source": [
    "piece = \"q\" \n",
    "lr = 0.002"
   ]
  },
  {
   "cell_type": "code",
   "execution_count": 31,
   "metadata": {},
   "outputs": [
    {
     "data": {
      "text/plain": [
       "(torch.Size([14, 8, 8]), torch.Size([64]), 102251)"
      ]
     },
     "execution_count": 31,
     "metadata": {},
     "output_type": "execute_result"
    }
   ],
   "source": [
    "samples = filter_by_piece(train_above_1800, piece)\n",
    "ds = ChessDataset(samples, mask_move=True, add_legal_moves=True)\n",
    "dl = torch.utils.data.DataLoader(ds, batch_size=64, shuffle=False)\n",
    "\n",
    "# sample from the dataset\n",
    "x, y = ds[0]\n",
    "x.shape, y.shape, len(ds)"
   ]
  },
  {
   "cell_type": "code",
   "execution_count": 32,
   "metadata": {},
   "outputs": [],
   "source": [
    "model = ChessNet(\n",
    "    num_classes=64,\n",
    "    num_channels=14,\n",
    "    activation=nn.ReLU(inplace=True),\n",
    ").to(device)"
   ]
  },
  {
   "cell_type": "code",
   "execution_count": 33,
   "metadata": {},
   "outputs": [
    {
     "name": "stdout",
     "output_type": "stream",
     "text": [
      "epoch 1/10 | batch 100/1598 | loss: 4.012565376758576 | elap: 4.96s\n",
      "epoch 1/10 | batch 200/1598 | loss: 3.8893849778175356 | elap: 10.16s\n",
      "epoch 1/10 | batch 300/1598 | loss: 3.8108711791038514 | elap: 15.11s\n",
      "epoch 1/10 | batch 400/1598 | loss: 3.788044638633728 | elap: 20.25s\n",
      "epoch 1/10 | batch 500/1598 | loss: 3.716839394569397 | elap: 25.49s\n",
      "epoch 1/10 | batch 600/1598 | loss: 3.687727298736572 | elap: 30.61s\n",
      "epoch 1/10 | batch 700/1598 | loss: 3.6173749494552614 | elap: 35.72s\n",
      "epoch 1/10 | batch 800/1598 | loss: 3.5763724517822264 | elap: 40.70s\n",
      "epoch 1/10 | batch 900/1598 | loss: 3.571012468338013 | elap: 45.96s\n",
      "epoch 1/10 | batch 1000/1598 | loss: 3.4953708267211914 | elap: 50.90s\n",
      "epoch 1/10 | batch 1100/1598 | loss: 3.4753871512413026 | elap: 55.97s\n",
      "epoch 1/10 | batch 1200/1598 | loss: 3.4214609932899473 | elap: 61.16s\n",
      "epoch 1/10 | batch 1300/1598 | loss: 3.386550488471985 | elap: 66.06s\n",
      "epoch 1/10 | batch 1400/1598 | loss: 3.37542040348053 | elap: 71.04s\n",
      "epoch 1/10 | batch 1500/1598 | loss: 3.367955756187439 | elap: 76.18s\n",
      "epoch 2/10 | batch 100/1598 | loss: 3.2975528240203857 | elap: 86.14s\n",
      "epoch 2/10 | batch 200/1598 | loss: 3.2981912994384768 | elap: 91.24s\n",
      "epoch 2/10 | batch 300/1598 | loss: 3.2858411073684692 | elap: 96.44s\n",
      "epoch 2/10 | batch 400/1598 | loss: 3.255398037433624 | elap: 101.42s\n",
      "epoch 2/10 | batch 500/1598 | loss: 3.2182635998725893 | elap: 106.53s\n",
      "epoch 2/10 | batch 600/1598 | loss: 3.1942863297462463 | elap: 111.75s\n",
      "epoch 2/10 | batch 700/1598 | loss: 3.175568745136261 | elap: 117.16s\n",
      "epoch 2/10 | batch 800/1598 | loss: 3.1577018308639526 | elap: 122.15s\n",
      "epoch 2/10 | batch 900/1598 | loss: 3.140517294406891 | elap: 127.37s\n",
      "epoch 2/10 | batch 1000/1598 | loss: 3.1403661131858827 | elap: 133.13s\n",
      "epoch 2/10 | batch 1100/1598 | loss: 3.1255912804603576 | elap: 139.09s\n",
      "epoch 2/10 | batch 1200/1598 | loss: 3.1018393206596375 | elap: 144.15s\n",
      "epoch 2/10 | batch 1300/1598 | loss: 3.0542535734176637 | elap: 149.23s\n",
      "epoch 2/10 | batch 1400/1598 | loss: 3.065529773235321 | elap: 154.85s\n",
      "epoch 2/10 | batch 1500/1598 | loss: 3.075313355922699 | elap: 160.33s\n",
      "epoch 3/10 | batch 100/1598 | loss: 3.0164596247673034 | elap: 170.37s\n",
      "epoch 3/10 | batch 200/1598 | loss: 2.976641719341278 | elap: 175.64s\n",
      "epoch 3/10 | batch 300/1598 | loss: 2.9538590717315674 | elap: 180.56s\n",
      "epoch 3/10 | batch 400/1598 | loss: 2.9845267796516417 | elap: 185.87s\n",
      "epoch 3/10 | batch 500/1598 | loss: 2.9545210433006286 | elap: 191.49s\n",
      "epoch 3/10 | batch 600/1598 | loss: 2.9489838433265687 | elap: 197.09s\n",
      "epoch 3/10 | batch 700/1598 | loss: 2.9100969076156615 | elap: 202.43s\n",
      "epoch 3/10 | batch 800/1598 | loss: 2.9227927899360657 | elap: 207.75s\n",
      "epoch 3/10 | batch 900/1598 | loss: 2.8612541556358337 | elap: 213.15s\n",
      "epoch 3/10 | batch 1000/1598 | loss: 2.913182737827301 | elap: 219.61s\n",
      "epoch 3/10 | batch 1100/1598 | loss: 2.880100691318512 | elap: 225.38s\n",
      "epoch 3/10 | batch 1200/1598 | loss: 2.9053883028030394 | elap: 231.41s\n",
      "epoch 3/10 | batch 1300/1598 | loss: 2.886575448513031 | elap: 236.33s\n",
      "epoch 3/10 | batch 1400/1598 | loss: 2.8909841895103456 | elap: 241.85s\n",
      "epoch 3/10 | batch 1500/1598 | loss: 2.8209926199913027 | elap: 247.32s\n",
      "epoch 4/10 | batch 100/1598 | loss: 2.7950260138511656 | elap: 257.90s\n",
      "epoch 4/10 | batch 200/1598 | loss: 2.78727486371994 | elap: 263.36s\n",
      "epoch 4/10 | batch 300/1598 | loss: 2.779007041454315 | elap: 268.53s\n",
      "epoch 4/10 | batch 400/1598 | loss: 2.747817852497101 | elap: 274.02s\n",
      "epoch 4/10 | batch 500/1598 | loss: 2.7585304617881774 | elap: 279.40s\n",
      "epoch 4/10 | batch 600/1598 | loss: 2.7869889426231382 | elap: 284.96s\n",
      "epoch 4/10 | batch 700/1598 | loss: 2.7800649285316466 | elap: 290.06s\n",
      "epoch 4/10 | batch 800/1598 | loss: 2.766084604263306 | elap: 295.39s\n",
      "epoch 4/10 | batch 900/1598 | loss: 2.767617702484131 | elap: 300.64s\n",
      "epoch 4/10 | batch 1000/1598 | loss: 2.718377115726471 | elap: 305.98s\n",
      "epoch 4/10 | batch 1100/1598 | loss: 2.7704346323013307 | elap: 311.47s\n",
      "epoch 4/10 | batch 1200/1598 | loss: 2.742703363895416 | elap: 316.78s\n",
      "epoch 4/10 | batch 1300/1598 | loss: 2.7705074191093444 | elap: 322.12s\n",
      "epoch 4/10 | batch 1400/1598 | loss: 2.717159621715546 | elap: 327.48s\n",
      "epoch 4/10 | batch 1500/1598 | loss: 2.7161336183547973 | elap: 332.35s\n",
      "epoch 5/10 | batch 100/1598 | loss: 2.6421855330467223 | elap: 342.95s\n",
      "epoch 5/10 | batch 200/1598 | loss: 2.6485325050354005 | elap: 348.02s\n",
      "epoch 5/10 | batch 300/1598 | loss: 2.6195116424560547 | elap: 353.59s\n",
      "epoch 5/10 | batch 400/1598 | loss: 2.650903205871582 | elap: 359.21s\n",
      "epoch 5/10 | batch 500/1598 | loss: 2.6849488854408263 | elap: 364.46s\n",
      "epoch 5/10 | batch 600/1598 | loss: 2.6472622323036195 | elap: 370.00s\n",
      "epoch 5/10 | batch 700/1598 | loss: 2.6428539085388185 | elap: 374.98s\n",
      "epoch 5/10 | batch 800/1598 | loss: 2.6249481892585753 | elap: 380.33s\n",
      "epoch 5/10 | batch 900/1598 | loss: 2.6534163880348207 | elap: 385.40s\n",
      "epoch 5/10 | batch 1000/1598 | loss: 2.617492709159851 | elap: 390.58s\n",
      "epoch 5/10 | batch 1100/1598 | loss: 2.6458746755123137 | elap: 395.92s\n",
      "epoch 5/10 | batch 1200/1598 | loss: 2.6661462140083314 | elap: 401.30s\n",
      "epoch 5/10 | batch 1300/1598 | loss: 2.631699149608612 | elap: 406.45s\n",
      "epoch 5/10 | batch 1400/1598 | loss: 2.6596387338638308 | elap: 411.84s\n",
      "epoch 5/10 | batch 1500/1598 | loss: 2.6021286940574644 | elap: 417.33s\n",
      "epoch 6/10 | batch 100/1598 | loss: 2.530088334083557 | elap: 427.11s\n",
      "epoch 6/10 | batch 200/1598 | loss: 2.5090043497085572 | elap: 432.48s\n",
      "epoch 6/10 | batch 300/1598 | loss: 2.558714234828949 | elap: 437.75s\n",
      "epoch 6/10 | batch 400/1598 | loss: 2.5271305656433105 | elap: 443.07s\n",
      "epoch 6/10 | batch 500/1598 | loss: 2.5853944420814514 | elap: 448.60s\n",
      "epoch 6/10 | batch 600/1598 | loss: 2.5520194721221925 | elap: 454.13s\n",
      "epoch 6/10 | batch 700/1598 | loss: 2.532109088897705 | elap: 459.09s\n",
      "epoch 6/10 | batch 800/1598 | loss: 2.5505251550674437 | elap: 464.31s\n",
      "epoch 6/10 | batch 900/1598 | loss: 2.576771130561829 | elap: 469.68s\n",
      "epoch 6/10 | batch 1000/1598 | loss: 2.550603632926941 | elap: 475.02s\n",
      "epoch 6/10 | batch 1100/1598 | loss: 2.5351870322227477 | elap: 480.26s\n",
      "epoch 6/10 | batch 1200/1598 | loss: 2.553259150981903 | elap: 485.48s\n",
      "epoch 6/10 | batch 1300/1598 | loss: 2.5300213742256163 | elap: 490.80s\n",
      "epoch 6/10 | batch 1400/1598 | loss: 2.531486647129059 | elap: 496.00s\n",
      "epoch 6/10 | batch 1500/1598 | loss: 2.5562522482872008 | elap: 501.06s\n",
      "epoch 7/10 | batch 100/1598 | loss: 2.436653107404709 | elap: 511.24s\n",
      "epoch 7/10 | batch 200/1598 | loss: 2.456993989944458 | elap: 516.21s\n",
      "epoch 7/10 | batch 300/1598 | loss: 2.406931772232056 | elap: 521.64s\n",
      "epoch 7/10 | batch 400/1598 | loss: 2.448666796684265 | elap: 526.84s\n",
      "epoch 7/10 | batch 500/1598 | loss: 2.4739851474761965 | elap: 532.00s\n",
      "epoch 7/10 | batch 600/1598 | loss: 2.452273552417755 | elap: 537.50s\n",
      "epoch 7/10 | batch 700/1598 | loss: 2.4705115866661074 | elap: 542.86s\n",
      "epoch 7/10 | batch 800/1598 | loss: 2.473617298603058 | elap: 547.92s\n",
      "epoch 7/10 | batch 900/1598 | loss: 2.4305813157558442 | elap: 553.28s\n",
      "epoch 7/10 | batch 1000/1598 | loss: 2.4808477711677552 | elap: 558.23s\n",
      "epoch 7/10 | batch 1100/1598 | loss: 2.4854809284210204 | elap: 563.70s\n",
      "epoch 7/10 | batch 1200/1598 | loss: 2.4441395699977875 | elap: 569.14s\n",
      "epoch 7/10 | batch 1300/1598 | loss: 2.4494683289527894 | elap: 574.82s\n",
      "epoch 7/10 | batch 1400/1598 | loss: 2.4552880692481995 | elap: 580.47s\n",
      "epoch 7/10 | batch 1500/1598 | loss: 2.4165398800373077 | elap: 585.89s\n",
      "epoch 8/10 | batch 100/1598 | loss: 2.350736435651779 | elap: 596.33s\n",
      "epoch 8/10 | batch 200/1598 | loss: 2.365883991718292 | elap: 601.80s\n",
      "epoch 8/10 | batch 300/1598 | loss: 2.3211361598968505 | elap: 607.21s\n",
      "epoch 8/10 | batch 400/1598 | loss: 2.374203051328659 | elap: 612.66s\n",
      "epoch 8/10 | batch 500/1598 | loss: 2.378756719827652 | elap: 618.40s\n",
      "epoch 8/10 | batch 600/1598 | loss: 2.337102233171463 | elap: 624.15s\n",
      "epoch 8/10 | batch 700/1598 | loss: 2.360544414520264 | elap: 629.75s\n",
      "epoch 8/10 | batch 800/1598 | loss: 2.3723977184295655 | elap: 635.78s\n",
      "epoch 8/10 | batch 900/1598 | loss: 2.360760635137558 | elap: 641.25s\n",
      "epoch 8/10 | batch 1000/1598 | loss: 2.3716614651679992 | elap: 647.31s\n",
      "epoch 8/10 | batch 1100/1598 | loss: 2.408610838651657 | elap: 653.27s\n",
      "epoch 8/10 | batch 1200/1598 | loss: 2.415787034034729 | elap: 659.06s\n",
      "epoch 8/10 | batch 1300/1598 | loss: 2.383296092748642 | elap: 664.94s\n",
      "epoch 8/10 | batch 1400/1598 | loss: 2.383956011533737 | elap: 670.68s\n",
      "epoch 8/10 | batch 1500/1598 | loss: 2.4191152942180634 | elap: 676.41s\n",
      "epoch 9/10 | batch 100/1598 | loss: 2.271236926317215 | elap: 687.77s\n",
      "epoch 9/10 | batch 200/1598 | loss: 2.2530008018016816 | elap: 693.43s\n",
      "epoch 9/10 | batch 300/1598 | loss: 2.247086465358734 | elap: 699.06s\n",
      "epoch 9/10 | batch 400/1598 | loss: 2.255159957408905 | elap: 704.76s\n",
      "epoch 9/10 | batch 500/1598 | loss: 2.29114031791687 | elap: 710.19s\n",
      "epoch 9/10 | batch 600/1598 | loss: 2.3242248094081877 | elap: 715.75s\n",
      "epoch 9/10 | batch 700/1598 | loss: 2.3032910311222077 | elap: 720.97s\n",
      "epoch 9/10 | batch 800/1598 | loss: 2.3028628957271575 | elap: 726.23s\n",
      "epoch 9/10 | batch 900/1598 | loss: 2.260198369026184 | elap: 731.41s\n",
      "epoch 9/10 | batch 1000/1598 | loss: 2.260047674179077 | elap: 736.51s\n",
      "epoch 9/10 | batch 1100/1598 | loss: 2.307393034696579 | elap: 741.56s\n",
      "epoch 9/10 | batch 1200/1598 | loss: 2.3076290142536164 | elap: 746.78s\n",
      "epoch 9/10 | batch 1300/1598 | loss: 2.318236632347107 | elap: 752.13s\n",
      "epoch 9/10 | batch 1400/1598 | loss: 2.3625074648857116 | elap: 757.19s\n",
      "epoch 9/10 | batch 1500/1598 | loss: 2.3165663743019103 | elap: 762.39s\n",
      "epoch 10/10 | batch 100/1598 | loss: 2.191194168329239 | elap: 773.16s\n",
      "epoch 10/10 | batch 200/1598 | loss: 2.1987370562553408 | elap: 778.27s\n",
      "epoch 10/10 | batch 300/1598 | loss: 2.1636345171928406 | elap: 783.38s\n",
      "epoch 10/10 | batch 400/1598 | loss: 2.1992738997936248 | elap: 788.48s\n",
      "epoch 10/10 | batch 500/1598 | loss: 2.2068092596530913 | elap: 793.52s\n",
      "epoch 10/10 | batch 600/1598 | loss: 2.171290464401245 | elap: 798.67s\n",
      "epoch 10/10 | batch 700/1598 | loss: 2.1852935361862182 | elap: 803.97s\n",
      "epoch 10/10 | batch 800/1598 | loss: 2.188674693107605 | elap: 809.05s\n",
      "epoch 10/10 | batch 900/1598 | loss: 2.212524137496948 | elap: 814.28s\n",
      "epoch 10/10 | batch 1000/1598 | loss: 2.2034043323993684 | elap: 819.49s\n",
      "epoch 10/10 | batch 1100/1598 | loss: 2.213703478574753 | elap: 824.67s\n",
      "epoch 10/10 | batch 1200/1598 | loss: 2.2282684779167177 | elap: 830.00s\n",
      "epoch 10/10 | batch 1300/1598 | loss: 2.239642148017883 | elap: 835.42s\n",
      "epoch 10/10 | batch 1400/1598 | loss: 2.23971657037735 | elap: 840.63s\n",
      "epoch 10/10 | batch 1500/1598 | loss: 2.2355255842208863 | elap: 845.71s\n"
     ]
    }
   ],
   "source": [
    "criterion = nn.CrossEntropyLoss()\n",
    "optimizer = torch.optim.Adam(model.parameters(), lr=lr)\n",
    "\n",
    "loss_history = training(model, dl, criterion, optimizer, num_epochs=10, device=device)"
   ]
  },
  {
   "cell_type": "code",
   "execution_count": 34,
   "metadata": {},
   "outputs": [],
   "source": [
    "# save the model\n",
    "torch.save(model.state_dict(), f\"{piece}_channel14_relu_epc10_batsize64_lr{lr}.pth\")"
   ]
  },
  {
   "cell_type": "code",
   "execution_count": 35,
   "metadata": {},
   "outputs": [
    {
     "data": {
      "text/plain": [
       "[<matplotlib.lines.Line2D at 0x274451e1d10>]"
      ]
     },
     "execution_count": 35,
     "metadata": {},
     "output_type": "execute_result"
    },
    {
     "data": {
      "image/png": "[encoded data removed]",
      "text/plain": [
       "<Figure size 640x480 with 1 Axes>"
      ]
     },
     "metadata": {},
     "output_type": "display_data"
    }
   ],
   "source": [
    "# plot loss history\n",
    "plt.plot(loss_history)"
   ]
  },
  {
   "cell_type": "markdown",
   "metadata": {},
   "source": [
    "## Evaluation"
   ]
  },
  {
   "cell_type": "code",
   "execution_count": 44,
   "metadata": {},
   "outputs": [
    {
     "data": {
      "text/plain": [
       "<All keys matched successfully>"
      ]
     },
     "execution_count": 44,
     "metadata": {},
     "output_type": "execute_result"
    }
   ],
   "source": [
    "# load the model\n",
    "piece = \"p\"\n",
    "model = ChessNet(\n",
    "    num_classes=64,\n",
    "    num_channels=7,\n",
    "    activation=nn.LeakyReLU(inplace=True, negative_slope=0.05),\n",
    ").to(device)\n",
    "\n",
    "model.load_state_dict(\n",
    "    torch.load(\n",
    "        f\"checkpoint/move_selection/move_{piece}_leakyrelu0.05_epc10_batsize128.pth\"\n",
    "    )\n",
    ")"
   ]
  },
  {
   "cell_type": "code",
   "execution_count": 36,
   "metadata": {},
   "outputs": [
    {
     "data": {
      "text/plain": [
       "(torch.Size([14, 8, 8]), torch.Size([64]), 102251)"
      ]
     },
     "execution_count": 36,
     "metadata": {},
     "output_type": "execute_result"
    }
   ],
   "source": [
    "test_samples = filter_by_piece(test_above_1800, piece)\n",
    "test_ds = ChessDataset(test_samples, mask_move=True, add_legal_moves=True)\n",
    "test_dl = DataLoader(test_ds, batch_size=64, shuffle=False)\n",
    "\n",
    "# sample from the dataset\n",
    "x, y = test_ds[0]\n",
    "x.shape, y.shape, len(ds)"
   ]
  },
  {
   "cell_type": "code",
   "execution_count": 37,
   "metadata": {},
   "outputs": [
    {
     "name": "stderr",
     "output_type": "stream",
     "text": [
      "100%|██████████| 402/402 [00:18<00:00, 21.30it/s]"
     ]
    },
    {
     "name": "stdout",
     "output_type": "stream",
     "text": [
      "Accuracy argmax move: 45.066%\n"
     ]
    },
    {
     "name": "stderr",
     "output_type": "stream",
     "text": [
      "\n"
     ]
    }
   ],
   "source": [
    "model.eval()\n",
    "total = 0\n",
    "correct = 0\n",
    "\n",
    "for idx, (x, y) in enumerate(tqdm(test_dl)):\n",
    "    x, y = x.to(device), y.to(device)\n",
    "    output = model(x)\n",
    "    output = torch.softmax(output, dim=1)\n",
    "    pred_y = argmax_move(output)\n",
    "    correct += (pred_y == y).all(dim=1).sum().item()\n",
    "    total += y.size(0)\n",
    "\n",
    "print(f\"Accuracy argmax move: {(correct/total) * 100:.3f}%\")"
   ]
  },
  {
   "cell_type": "markdown",
   "metadata": {},
   "source": [
    "# Results\n",
    "\n",
    "Piece selection(70 epochs, batch size 256): 43.996%\n",
    "\n",
    "Move selection(10 epochs, batch size 128)\n",
    "* Pawn: 89.047%\n",
    "* Knight: 73% \n",
    "* Rook: 56.261% - 57.752%\n",
    "* Bishop: 66.328%\n",
    "* Queen: 43.269% - 45.054% - 46.778%\n",
    "* King: 68.859%\n"
   ]
  }
 ],
 "metadata": {
  "kernelspec": {
   "display_name": "Python 3",
   "language": "python",
   "name": "python3"
  },
  "language_info": {
   "codemirror_mode": {
    "name": "ipython",
    "version": 3
   },
   "file_extension": ".py",
   "mimetype": "text/x-python",
   "name": "python",
   "nbconvert_exporter": "python",
   "pygments_lexer": "ipython3",
   "version": "3.11.6"
  }
 },
 "nbformat": 4,
 "nbformat_minor": 2
}
